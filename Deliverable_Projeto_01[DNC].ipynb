{
  "cells": [
    {
      "attachments": {},
      "cell_type": "markdown",
      "metadata": {
        "id": "8ayfY8NQoTjm"
      },
      "source": [
        "# Ideia do Projeto 1 (Slot 3) - Setor Imobiliário\n",
        "\n",
        "Case: A LOFT,\n",
        "\n",
        "Empresa do ramo imobiliário Brasileiro, quer expandir sua área de atuação e fazer um investimento internacional. \n",
        "\n",
        "Devido a questões estratégicas, a empresa irá investir em imóveis no Condado de County, nos Estatos Unidos. \n",
        "\n",
        "Utilizando o dataset disponibilizado, você irá aplicar os conceitos de CRISP-DM aprendidos até o momento em um projeto prático, que busca desenvolver seu pensamento analítico, insights e tomada de decisões.\n",
        "\n",
        "O que devo fazer? \n",
        "\n",
        "Você deve montar um colab bem redigido mostrando o passo a passo das etapas de análise do case, fazendo uma introdução e dados atuais sobre o problema.\n",
        "\n",
        "Também é importante ressaltar/explicar passagens complexas ou insights que você tiver durante a resolução desse projeto.\n",
        "\n",
        "# Descrição do projeto\n",
        "\n",
        "O Projeto de Insight cobre 5 questionamentos basicamente (Que você estabelecer):\n",
        "\n",
        "* A Questão de Negócio:\n",
        "  - Qual a minha meta?\n",
        "  - Como posso chegar?\n",
        "\n",
        "* O Entendimento do Negócio:\n",
        "  - Quais dados eu tenho disponível?\n",
        "  - Eles são relevantes para o problema?\n",
        "  - Eles me trazem uma solução direta?\n",
        "  - Qual o meu setor ou range de negócio?\n",
        "\n",
        "* A Coleta de Dados:\n",
        "  - Os dados que eu tenho fazem sentido?\n",
        "  - Estão no formato que eu gostaria?\n",
        "  - O que mais eu consigo obter de informação destes dados?\n",
        "\n",
        "* A Limpeza de Dados:\n",
        "  - Remoção de dados outliers e valores ausentes\n",
        "  - Data\n",
        "  \n",
        "* A Exploração de Dados:\n",
        "  - Visualização dos dados\n",
        "  - Quais as minhas métricas essenciais\n",
        "  - Baseado nos dados, qual imóvel ou tipo de imóveis eu deveria comprar.\n",
        "\n",
        "\n",
        "Baseado nestes pensamentos que você utilizou para responder as perguntas acima, qual seria os 5 imóveis que você compraria e o porquê e quais 5 você não compraria de jeito nenhum.\n",
        "\n",
        "# Dicas de insights:\n",
        "- Encontre a cidade de cada imóvel\n",
        "- Calcule o preço por área de imóvel\n",
        "- Calcule o lucro/ perda de investimento caso o imóvel seja vendido mais de uma vez naquele período."
      ]
    },
    {
      "cell_type": "markdown",
      "metadata": {
        "id": "aKigncZQt_33"
      },
      "source": [
        "# King County - Condado de King - Washington\n",
        "O Condado de King é um dos 39 condados do estado americano de Washington. A sede e cidade mais populosa do condado é Seattle. Foi fundado em 1852. Com mais de 2,2 milhões de habitantes, de acordo com o censo nacional de 2020, é o condado mais populoso do estado e o 12º mais populoso do país. [Wikipédia](https://pt.wikipedia.org/wiki/Condado_de_King_(Washington))\n",
        "\n",
        "O Datset apresenta a venda de imóveis e suas características na região de Maio de 2014 à Maio de 2015. Tem um totoal de 21613 registros com um total de 21 atributos. \n",
        "\n",
        "Dataset: https://www.kaggle.com/harlfoxem/housesalesprediction\n",
        "\n",
        "Dataset detalhado: https://geodacenter.github.io/data-and-lab/KingCounty-HouseSales2015/\n",
        "\n",
        "Variável | Descrição\n",
        "--- | ---\n",
        "id\t| Identificador único do imóvel\n",
        "date\t| Data da Venda\n",
        "price\t| Preço de venda\n",
        "bedrooms\t| Nº de Quartos\n",
        "bathrooms\t| Nº de Banheiros\n",
        "sqft_liv\t| Tamanho de área habitável em ft²\n",
        "sqft_lot\t| Tamanho do terreno em ft²\n",
        "floors\t| Número de andares\n",
        "waterfront\t| Indicativo se o imóvel é a beira-mar\n",
        "view\t| Grau de quão belo é a vista do imóvel (0 a 4)\n",
        "condition\t| Condição da casa (1 a 5) \n",
        "grade\t| Classificação por qualidade de material utilizado na construção\n",
        "sqft_above\t| Área em acima do solo em ft²\n",
        "sqft_basmt\t|  Área em abaixo do solo em ft²\n",
        "yr_built\t| Ano de construção\n",
        "yr_renov\t| Ano de restauração, caso o contrário, 0.\n",
        "zipcode\t| Zip Code 5 - Similar ao CEP\n",
        "lat\t| Latitude\n",
        "long\t| Longitude\n",
        "squft_liv15\t| Média da área habitável dos 15 imóveis mais próximos, em ft²\n",
        "squft_lot15\t| Média da área habitável dos 15 imóveis mais próximos, em ft²"
      ]
    },
    {
      "attachments": {},
      "cell_type": "markdown",
      "metadata": {
        "id": "C6BxWrmzuw5m"
      },
      "source": [
        "## **0.0 Bibliotecas utilizadas**"
      ]
    },
    {
      "cell_type": "code",
      "execution_count": 57,
      "metadata": {},
      "outputs": [],
      "source": [
        "# Importação\n",
        "import numpy                as np\n",
        "import pandas               as pd\n",
        "import seaborn              as sns\n",
        "import matplotlib.pyplot    as plt\n",
        "import plotly.graph_objects as go\n",
        "import plotly.express       as px\n",
        "\n",
        "from plotly.graph_objs      import *\n",
        "from pyzipcode              import ZipCodeDatabase"
      ]
    },
    {
      "attachments": {},
      "cell_type": "markdown",
      "metadata": {
        "id": "C6BxWrmzuw5m"
      },
      "source": [
        "### 0.1 Funções auxiliares"
      ]
    },
    {
      "cell_type": "code",
      "execution_count": 58,
      "metadata": {},
      "outputs": [],
      "source": [
        "def personal_settings():\n",
        "    \n",
        "    pd.set_option('display.float_format', '{:.2f}'.format)"
      ]
    },
    {
      "cell_type": "code",
      "execution_count": 59,
      "metadata": {},
      "outputs": [],
      "source": [
        "personal_settings()"
      ]
    },
    {
      "attachments": {},
      "cell_type": "markdown",
      "metadata": {
        "id": "lkeWA_IsuzqZ"
      },
      "source": [
        "## **1.0 Descrição dos dados**"
      ]
    },
    {
      "attachments": {},
      "cell_type": "markdown",
      "metadata": {},
      "source": [
        "### 1.1 Importação dos dados"
      ]
    },
    {
      "cell_type": "code",
      "execution_count": 60,
      "metadata": {
        "id": "kWWjLyBpaezS"
      },
      "outputs": [],
      "source": [
        "## Leitura local\n",
        "##df = pd.read_csv('Dataset/kc_house_data_original.csv')\n",
        "\n",
        "## Leitura cloud\n",
        "URL = \"https://drive.google.com/file/d/1mzl0FMFGz8ye9KqDLHev4weeB5vWzJII/view?usp=sharing\"\n",
        "path = \"https://drive.google.com/uc?export=download&id=\"+URL.split(\"/\")[-2]\n",
        "df = pd.read_csv(path)"
      ]
    },
    {
      "cell_type": "code",
      "execution_count": 61,
      "metadata": {
        "colab": {
          "base_uri": "https://localhost:8080/",
          "height": 236
        },
        "id": "_TSz47ifnszi",
        "outputId": "e7a1c00c-a847-4a4d-8c95-727832dc750c"
      },
      "outputs": [
        {
          "data": {
            "text/html": [
              "<div>\n",
              "<style scoped>\n",
              "    .dataframe tbody tr th:only-of-type {\n",
              "        vertical-align: middle;\n",
              "    }\n",
              "\n",
              "    .dataframe tbody tr th {\n",
              "        vertical-align: top;\n",
              "    }\n",
              "\n",
              "    .dataframe thead th {\n",
              "        text-align: right;\n",
              "    }\n",
              "</style>\n",
              "<table border=\"1\" class=\"dataframe\">\n",
              "  <thead>\n",
              "    <tr style=\"text-align: right;\">\n",
              "      <th></th>\n",
              "      <th>id</th>\n",
              "      <th>date</th>\n",
              "      <th>price</th>\n",
              "      <th>bedrooms</th>\n",
              "      <th>bathrooms</th>\n",
              "      <th>sqft_living</th>\n",
              "      <th>sqft_lot</th>\n",
              "      <th>floors</th>\n",
              "      <th>waterfront</th>\n",
              "      <th>view</th>\n",
              "      <th>...</th>\n",
              "      <th>grade</th>\n",
              "      <th>sqft_above</th>\n",
              "      <th>sqft_basement</th>\n",
              "      <th>yr_built</th>\n",
              "      <th>yr_renovated</th>\n",
              "      <th>zipcode</th>\n",
              "      <th>lat</th>\n",
              "      <th>long</th>\n",
              "      <th>sqft_living15</th>\n",
              "      <th>sqft_lot15</th>\n",
              "    </tr>\n",
              "  </thead>\n",
              "  <tbody>\n",
              "    <tr>\n",
              "      <th>0</th>\n",
              "      <td>7129300520</td>\n",
              "      <td>20141013T000000</td>\n",
              "      <td>221900.00</td>\n",
              "      <td>3</td>\n",
              "      <td>1.00</td>\n",
              "      <td>1180</td>\n",
              "      <td>5650</td>\n",
              "      <td>1.00</td>\n",
              "      <td>0</td>\n",
              "      <td>0</td>\n",
              "      <td>...</td>\n",
              "      <td>7</td>\n",
              "      <td>1180</td>\n",
              "      <td>0</td>\n",
              "      <td>1955</td>\n",
              "      <td>0</td>\n",
              "      <td>98178</td>\n",
              "      <td>47.51</td>\n",
              "      <td>-122.26</td>\n",
              "      <td>1340</td>\n",
              "      <td>5650</td>\n",
              "    </tr>\n",
              "    <tr>\n",
              "      <th>1</th>\n",
              "      <td>6414100192</td>\n",
              "      <td>20141209T000000</td>\n",
              "      <td>538000.00</td>\n",
              "      <td>3</td>\n",
              "      <td>2.25</td>\n",
              "      <td>2570</td>\n",
              "      <td>7242</td>\n",
              "      <td>2.00</td>\n",
              "      <td>0</td>\n",
              "      <td>0</td>\n",
              "      <td>...</td>\n",
              "      <td>7</td>\n",
              "      <td>2170</td>\n",
              "      <td>400</td>\n",
              "      <td>1951</td>\n",
              "      <td>1991</td>\n",
              "      <td>98125</td>\n",
              "      <td>47.72</td>\n",
              "      <td>-122.32</td>\n",
              "      <td>1690</td>\n",
              "      <td>7639</td>\n",
              "    </tr>\n",
              "    <tr>\n",
              "      <th>2</th>\n",
              "      <td>5631500400</td>\n",
              "      <td>20150225T000000</td>\n",
              "      <td>180000.00</td>\n",
              "      <td>2</td>\n",
              "      <td>1.00</td>\n",
              "      <td>770</td>\n",
              "      <td>10000</td>\n",
              "      <td>1.00</td>\n",
              "      <td>0</td>\n",
              "      <td>0</td>\n",
              "      <td>...</td>\n",
              "      <td>6</td>\n",
              "      <td>770</td>\n",
              "      <td>0</td>\n",
              "      <td>1933</td>\n",
              "      <td>0</td>\n",
              "      <td>98028</td>\n",
              "      <td>47.74</td>\n",
              "      <td>-122.23</td>\n",
              "      <td>2720</td>\n",
              "      <td>8062</td>\n",
              "    </tr>\n",
              "    <tr>\n",
              "      <th>3</th>\n",
              "      <td>2487200875</td>\n",
              "      <td>20141209T000000</td>\n",
              "      <td>604000.00</td>\n",
              "      <td>4</td>\n",
              "      <td>3.00</td>\n",
              "      <td>1960</td>\n",
              "      <td>5000</td>\n",
              "      <td>1.00</td>\n",
              "      <td>0</td>\n",
              "      <td>0</td>\n",
              "      <td>...</td>\n",
              "      <td>7</td>\n",
              "      <td>1050</td>\n",
              "      <td>910</td>\n",
              "      <td>1965</td>\n",
              "      <td>0</td>\n",
              "      <td>98136</td>\n",
              "      <td>47.52</td>\n",
              "      <td>-122.39</td>\n",
              "      <td>1360</td>\n",
              "      <td>5000</td>\n",
              "    </tr>\n",
              "    <tr>\n",
              "      <th>4</th>\n",
              "      <td>1954400510</td>\n",
              "      <td>20150218T000000</td>\n",
              "      <td>510000.00</td>\n",
              "      <td>3</td>\n",
              "      <td>2.00</td>\n",
              "      <td>1680</td>\n",
              "      <td>8080</td>\n",
              "      <td>1.00</td>\n",
              "      <td>0</td>\n",
              "      <td>0</td>\n",
              "      <td>...</td>\n",
              "      <td>8</td>\n",
              "      <td>1680</td>\n",
              "      <td>0</td>\n",
              "      <td>1987</td>\n",
              "      <td>0</td>\n",
              "      <td>98074</td>\n",
              "      <td>47.62</td>\n",
              "      <td>-122.05</td>\n",
              "      <td>1800</td>\n",
              "      <td>7503</td>\n",
              "    </tr>\n",
              "  </tbody>\n",
              "</table>\n",
              "<p>5 rows × 21 columns</p>\n",
              "</div>"
            ],
            "text/plain": [
              "           id             date     price  bedrooms  bathrooms  sqft_living  \\\n",
              "0  7129300520  20141013T000000 221900.00         3       1.00         1180   \n",
              "1  6414100192  20141209T000000 538000.00         3       2.25         2570   \n",
              "2  5631500400  20150225T000000 180000.00         2       1.00          770   \n",
              "3  2487200875  20141209T000000 604000.00         4       3.00         1960   \n",
              "4  1954400510  20150218T000000 510000.00         3       2.00         1680   \n",
              "\n",
              "   sqft_lot  floors  waterfront  view  ...  grade  sqft_above  sqft_basement  \\\n",
              "0      5650    1.00           0     0  ...      7        1180              0   \n",
              "1      7242    2.00           0     0  ...      7        2170            400   \n",
              "2     10000    1.00           0     0  ...      6         770              0   \n",
              "3      5000    1.00           0     0  ...      7        1050            910   \n",
              "4      8080    1.00           0     0  ...      8        1680              0   \n",
              "\n",
              "   yr_built  yr_renovated  zipcode   lat    long  sqft_living15  sqft_lot15  \n",
              "0      1955             0    98178 47.51 -122.26           1340        5650  \n",
              "1      1951          1991    98125 47.72 -122.32           1690        7639  \n",
              "2      1933             0    98028 47.74 -122.23           2720        8062  \n",
              "3      1965             0    98136 47.52 -122.39           1360        5000  \n",
              "4      1987             0    98074 47.62 -122.05           1800        7503  \n",
              "\n",
              "[5 rows x 21 columns]"
            ]
          },
          "execution_count": 61,
          "metadata": {},
          "output_type": "execute_result"
        }
      ],
      "source": [
        "# Verificar as cinco primeiras linhas\n",
        "df.head()"
      ]
    },
    {
      "cell_type": "code",
      "execution_count": 62,
      "metadata": {
        "colab": {
          "base_uri": "https://localhost:8080/",
          "height": 280
        },
        "id": "DGNk0JPInyLw",
        "outputId": "ae743417-b28e-4b9b-d635-9c3cdded6999"
      },
      "outputs": [
        {
          "data": {
            "text/html": [
              "<div>\n",
              "<style scoped>\n",
              "    .dataframe tbody tr th:only-of-type {\n",
              "        vertical-align: middle;\n",
              "    }\n",
              "\n",
              "    .dataframe tbody tr th {\n",
              "        vertical-align: top;\n",
              "    }\n",
              "\n",
              "    .dataframe thead th {\n",
              "        text-align: right;\n",
              "    }\n",
              "</style>\n",
              "<table border=\"1\" class=\"dataframe\">\n",
              "  <thead>\n",
              "    <tr style=\"text-align: right;\">\n",
              "      <th></th>\n",
              "      <th>id</th>\n",
              "      <th>date</th>\n",
              "      <th>price</th>\n",
              "      <th>bedrooms</th>\n",
              "      <th>bathrooms</th>\n",
              "      <th>sqft_living</th>\n",
              "      <th>sqft_lot</th>\n",
              "      <th>floors</th>\n",
              "      <th>waterfront</th>\n",
              "      <th>view</th>\n",
              "      <th>...</th>\n",
              "      <th>grade</th>\n",
              "      <th>sqft_above</th>\n",
              "      <th>sqft_basement</th>\n",
              "      <th>yr_built</th>\n",
              "      <th>yr_renovated</th>\n",
              "      <th>zipcode</th>\n",
              "      <th>lat</th>\n",
              "      <th>long</th>\n",
              "      <th>sqft_living15</th>\n",
              "      <th>sqft_lot15</th>\n",
              "    </tr>\n",
              "  </thead>\n",
              "  <tbody>\n",
              "    <tr>\n",
              "      <th>21608</th>\n",
              "      <td>263000018</td>\n",
              "      <td>20140521T000000</td>\n",
              "      <td>360000.00</td>\n",
              "      <td>3</td>\n",
              "      <td>2.50</td>\n",
              "      <td>1530</td>\n",
              "      <td>1131</td>\n",
              "      <td>3.00</td>\n",
              "      <td>0</td>\n",
              "      <td>0</td>\n",
              "      <td>...</td>\n",
              "      <td>8</td>\n",
              "      <td>1530</td>\n",
              "      <td>0</td>\n",
              "      <td>2009</td>\n",
              "      <td>0</td>\n",
              "      <td>98103</td>\n",
              "      <td>47.70</td>\n",
              "      <td>-122.35</td>\n",
              "      <td>1530</td>\n",
              "      <td>1509</td>\n",
              "    </tr>\n",
              "    <tr>\n",
              "      <th>21609</th>\n",
              "      <td>6600060120</td>\n",
              "      <td>20150223T000000</td>\n",
              "      <td>400000.00</td>\n",
              "      <td>4</td>\n",
              "      <td>2.50</td>\n",
              "      <td>2310</td>\n",
              "      <td>5813</td>\n",
              "      <td>2.00</td>\n",
              "      <td>0</td>\n",
              "      <td>0</td>\n",
              "      <td>...</td>\n",
              "      <td>8</td>\n",
              "      <td>2310</td>\n",
              "      <td>0</td>\n",
              "      <td>2014</td>\n",
              "      <td>0</td>\n",
              "      <td>98146</td>\n",
              "      <td>47.51</td>\n",
              "      <td>-122.36</td>\n",
              "      <td>1830</td>\n",
              "      <td>7200</td>\n",
              "    </tr>\n",
              "    <tr>\n",
              "      <th>21610</th>\n",
              "      <td>1523300141</td>\n",
              "      <td>20140623T000000</td>\n",
              "      <td>402101.00</td>\n",
              "      <td>2</td>\n",
              "      <td>0.75</td>\n",
              "      <td>1020</td>\n",
              "      <td>1350</td>\n",
              "      <td>2.00</td>\n",
              "      <td>0</td>\n",
              "      <td>0</td>\n",
              "      <td>...</td>\n",
              "      <td>7</td>\n",
              "      <td>1020</td>\n",
              "      <td>0</td>\n",
              "      <td>2009</td>\n",
              "      <td>0</td>\n",
              "      <td>98144</td>\n",
              "      <td>47.59</td>\n",
              "      <td>-122.30</td>\n",
              "      <td>1020</td>\n",
              "      <td>2007</td>\n",
              "    </tr>\n",
              "    <tr>\n",
              "      <th>21611</th>\n",
              "      <td>291310100</td>\n",
              "      <td>20150116T000000</td>\n",
              "      <td>400000.00</td>\n",
              "      <td>3</td>\n",
              "      <td>2.50</td>\n",
              "      <td>1600</td>\n",
              "      <td>2388</td>\n",
              "      <td>2.00</td>\n",
              "      <td>0</td>\n",
              "      <td>0</td>\n",
              "      <td>...</td>\n",
              "      <td>8</td>\n",
              "      <td>1600</td>\n",
              "      <td>0</td>\n",
              "      <td>2004</td>\n",
              "      <td>0</td>\n",
              "      <td>98027</td>\n",
              "      <td>47.53</td>\n",
              "      <td>-122.07</td>\n",
              "      <td>1410</td>\n",
              "      <td>1287</td>\n",
              "    </tr>\n",
              "    <tr>\n",
              "      <th>21612</th>\n",
              "      <td>1523300157</td>\n",
              "      <td>20141015T000000</td>\n",
              "      <td>325000.00</td>\n",
              "      <td>2</td>\n",
              "      <td>0.75</td>\n",
              "      <td>1020</td>\n",
              "      <td>1076</td>\n",
              "      <td>2.00</td>\n",
              "      <td>0</td>\n",
              "      <td>0</td>\n",
              "      <td>...</td>\n",
              "      <td>7</td>\n",
              "      <td>1020</td>\n",
              "      <td>0</td>\n",
              "      <td>2008</td>\n",
              "      <td>0</td>\n",
              "      <td>98144</td>\n",
              "      <td>47.59</td>\n",
              "      <td>-122.30</td>\n",
              "      <td>1020</td>\n",
              "      <td>1357</td>\n",
              "    </tr>\n",
              "  </tbody>\n",
              "</table>\n",
              "<p>5 rows × 21 columns</p>\n",
              "</div>"
            ],
            "text/plain": [
              "               id             date     price  bedrooms  bathrooms  \\\n",
              "21608   263000018  20140521T000000 360000.00         3       2.50   \n",
              "21609  6600060120  20150223T000000 400000.00         4       2.50   \n",
              "21610  1523300141  20140623T000000 402101.00         2       0.75   \n",
              "21611   291310100  20150116T000000 400000.00         3       2.50   \n",
              "21612  1523300157  20141015T000000 325000.00         2       0.75   \n",
              "\n",
              "       sqft_living  sqft_lot  floors  waterfront  view  ...  grade  \\\n",
              "21608         1530      1131    3.00           0     0  ...      8   \n",
              "21609         2310      5813    2.00           0     0  ...      8   \n",
              "21610         1020      1350    2.00           0     0  ...      7   \n",
              "21611         1600      2388    2.00           0     0  ...      8   \n",
              "21612         1020      1076    2.00           0     0  ...      7   \n",
              "\n",
              "       sqft_above  sqft_basement  yr_built  yr_renovated  zipcode   lat  \\\n",
              "21608        1530              0      2009             0    98103 47.70   \n",
              "21609        2310              0      2014             0    98146 47.51   \n",
              "21610        1020              0      2009             0    98144 47.59   \n",
              "21611        1600              0      2004             0    98027 47.53   \n",
              "21612        1020              0      2008             0    98144 47.59   \n",
              "\n",
              "         long  sqft_living15  sqft_lot15  \n",
              "21608 -122.35           1530        1509  \n",
              "21609 -122.36           1830        7200  \n",
              "21610 -122.30           1020        2007  \n",
              "21611 -122.07           1410        1287  \n",
              "21612 -122.30           1020        1357  \n",
              "\n",
              "[5 rows x 21 columns]"
            ]
          },
          "execution_count": 62,
          "metadata": {},
          "output_type": "execute_result"
        }
      ],
      "source": [
        "# Verificar as cinco últimas linhas\n",
        "df.tail()"
      ]
    },
    {
      "attachments": {},
      "cell_type": "markdown",
      "metadata": {},
      "source": [
        "### 1.2 Dimensão dos dados"
      ]
    },
    {
      "cell_type": "code",
      "execution_count": 63,
      "metadata": {},
      "outputs": [
        {
          "name": "stdout",
          "output_type": "stream",
          "text": [
            "21613 Linhas\n",
            "21 Colunas\n"
          ]
        }
      ],
      "source": [
        "print(df.shape[0], 'Linhas')\n",
        "print(df.shape[1], 'Colunas')"
      ]
    },
    {
      "attachments": {},
      "cell_type": "markdown",
      "metadata": {},
      "source": [
        "### 1.3 Tipos de dados"
      ]
    },
    {
      "cell_type": "code",
      "execution_count": 64,
      "metadata": {
        "colab": {
          "base_uri": "https://localhost:8080/"
        },
        "id": "A217cw0CKpvh",
        "outputId": "9b0bfdc9-ff1a-4164-ed9c-5a590ef4518c"
      },
      "outputs": [
        {
          "data": {
            "text/html": [
              "<div>\n",
              "<style scoped>\n",
              "    .dataframe tbody tr th:only-of-type {\n",
              "        vertical-align: middle;\n",
              "    }\n",
              "\n",
              "    .dataframe tbody tr th {\n",
              "        vertical-align: top;\n",
              "    }\n",
              "\n",
              "    .dataframe thead th {\n",
              "        text-align: right;\n",
              "    }\n",
              "</style>\n",
              "<table border=\"1\" class=\"dataframe\">\n",
              "  <thead>\n",
              "    <tr style=\"text-align: right;\">\n",
              "      <th></th>\n",
              "      <th>attributes</th>\n",
              "      <th>dtypes</th>\n",
              "      <th>nunique</th>\n",
              "      <th>sample</th>\n",
              "    </tr>\n",
              "  </thead>\n",
              "  <tbody>\n",
              "    <tr>\n",
              "      <th>0</th>\n",
              "      <td>id</td>\n",
              "      <td>int64</td>\n",
              "      <td>21436</td>\n",
              "      <td>[8563070030, 1796500100]</td>\n",
              "    </tr>\n",
              "    <tr>\n",
              "      <th>1</th>\n",
              "      <td>date</td>\n",
              "      <td>object</td>\n",
              "      <td>372</td>\n",
              "      <td>[20141110T000000, 20141002T000000]</td>\n",
              "    </tr>\n",
              "    <tr>\n",
              "      <th>2</th>\n",
              "      <td>price</td>\n",
              "      <td>float64</td>\n",
              "      <td>4028</td>\n",
              "      <td>[398500.0, 2328000.0]</td>\n",
              "    </tr>\n",
              "    <tr>\n",
              "      <th>3</th>\n",
              "      <td>bedrooms</td>\n",
              "      <td>int64</td>\n",
              "      <td>13</td>\n",
              "      <td>[4, 0]</td>\n",
              "    </tr>\n",
              "    <tr>\n",
              "      <th>4</th>\n",
              "      <td>bathrooms</td>\n",
              "      <td>float64</td>\n",
              "      <td>30</td>\n",
              "      <td>[6.0, 2.25]</td>\n",
              "    </tr>\n",
              "    <tr>\n",
              "      <th>5</th>\n",
              "      <td>sqft_living</td>\n",
              "      <td>int64</td>\n",
              "      <td>1038</td>\n",
              "      <td>[3540, 1232]</td>\n",
              "    </tr>\n",
              "    <tr>\n",
              "      <th>6</th>\n",
              "      <td>sqft_lot</td>\n",
              "      <td>int64</td>\n",
              "      <td>9782</td>\n",
              "      <td>[1092, 10748]</td>\n",
              "    </tr>\n",
              "    <tr>\n",
              "      <th>7</th>\n",
              "      <td>floors</td>\n",
              "      <td>float64</td>\n",
              "      <td>6</td>\n",
              "      <td>[3.5, 2.0]</td>\n",
              "    </tr>\n",
              "    <tr>\n",
              "      <th>8</th>\n",
              "      <td>waterfront</td>\n",
              "      <td>int64</td>\n",
              "      <td>2</td>\n",
              "      <td>[0, 1]</td>\n",
              "    </tr>\n",
              "    <tr>\n",
              "      <th>9</th>\n",
              "      <td>view</td>\n",
              "      <td>int64</td>\n",
              "      <td>5</td>\n",
              "      <td>[4, 1]</td>\n",
              "    </tr>\n",
              "    <tr>\n",
              "      <th>10</th>\n",
              "      <td>condition</td>\n",
              "      <td>int64</td>\n",
              "      <td>5</td>\n",
              "      <td>[3, 5]</td>\n",
              "    </tr>\n",
              "    <tr>\n",
              "      <th>11</th>\n",
              "      <td>grade</td>\n",
              "      <td>int64</td>\n",
              "      <td>12</td>\n",
              "      <td>[10, 3]</td>\n",
              "    </tr>\n",
              "    <tr>\n",
              "      <th>12</th>\n",
              "      <td>sqft_above</td>\n",
              "      <td>int64</td>\n",
              "      <td>946</td>\n",
              "      <td>[1613, 9410]</td>\n",
              "    </tr>\n",
              "    <tr>\n",
              "      <th>13</th>\n",
              "      <td>sqft_basement</td>\n",
              "      <td>int64</td>\n",
              "      <td>306</td>\n",
              "      <td>[1284, 250]</td>\n",
              "    </tr>\n",
              "    <tr>\n",
              "      <th>14</th>\n",
              "      <td>yr_built</td>\n",
              "      <td>int64</td>\n",
              "      <td>116</td>\n",
              "      <td>[1955, 1915]</td>\n",
              "    </tr>\n",
              "    <tr>\n",
              "      <th>15</th>\n",
              "      <td>yr_renovated</td>\n",
              "      <td>int64</td>\n",
              "      <td>70</td>\n",
              "      <td>[1986, 1940]</td>\n",
              "    </tr>\n",
              "    <tr>\n",
              "      <th>16</th>\n",
              "      <td>zipcode</td>\n",
              "      <td>int64</td>\n",
              "      <td>70</td>\n",
              "      <td>[98125, 98146]</td>\n",
              "    </tr>\n",
              "    <tr>\n",
              "      <th>17</th>\n",
              "      <td>lat</td>\n",
              "      <td>float64</td>\n",
              "      <td>5034</td>\n",
              "      <td>[47.5131, 47.3589]</td>\n",
              "    </tr>\n",
              "    <tr>\n",
              "      <th>18</th>\n",
              "      <td>long</td>\n",
              "      <td>float64</td>\n",
              "      <td>752</td>\n",
              "      <td>[-121.995, -121.949]</td>\n",
              "    </tr>\n",
              "    <tr>\n",
              "      <th>19</th>\n",
              "      <td>sqft_living15</td>\n",
              "      <td>int64</td>\n",
              "      <td>777</td>\n",
              "      <td>[2728, 1516]</td>\n",
              "    </tr>\n",
              "    <tr>\n",
              "      <th>20</th>\n",
              "      <td>sqft_lot15</td>\n",
              "      <td>int64</td>\n",
              "      <td>8689</td>\n",
              "      <td>[5946, 8734]</td>\n",
              "    </tr>\n",
              "  </tbody>\n",
              "</table>\n",
              "</div>"
            ],
            "text/plain": [
              "       attributes   dtypes  nunique                              sample\n",
              "0              id    int64    21436            [8563070030, 1796500100]\n",
              "1            date   object      372  [20141110T000000, 20141002T000000]\n",
              "2           price  float64     4028               [398500.0, 2328000.0]\n",
              "3        bedrooms    int64       13                              [4, 0]\n",
              "4       bathrooms  float64       30                         [6.0, 2.25]\n",
              "5     sqft_living    int64     1038                        [3540, 1232]\n",
              "6        sqft_lot    int64     9782                       [1092, 10748]\n",
              "7          floors  float64        6                          [3.5, 2.0]\n",
              "8      waterfront    int64        2                              [0, 1]\n",
              "9            view    int64        5                              [4, 1]\n",
              "10      condition    int64        5                              [3, 5]\n",
              "11          grade    int64       12                             [10, 3]\n",
              "12     sqft_above    int64      946                        [1613, 9410]\n",
              "13  sqft_basement    int64      306                         [1284, 250]\n",
              "14       yr_built    int64      116                        [1955, 1915]\n",
              "15   yr_renovated    int64       70                        [1986, 1940]\n",
              "16        zipcode    int64       70                      [98125, 98146]\n",
              "17            lat  float64     5034                  [47.5131, 47.3589]\n",
              "18           long  float64      752                [-121.995, -121.949]\n",
              "19  sqft_living15    int64      777                        [2728, 1516]\n",
              "20     sqft_lot15    int64     8689                        [5946, 8734]"
            ]
          },
          "execution_count": 64,
          "metadata": {},
          "output_type": "execute_result"
        }
      ],
      "source": [
        "description = []\n",
        "\n",
        "for i in df.columns:\n",
        "    description.append([\n",
        "        i,\n",
        "        df[i].dtypes,\n",
        "        df[i].nunique(),\n",
        "        df[i].drop_duplicates().sample(2).values\n",
        "    ])\n",
        "\n",
        "pd.DataFrame(data=description, columns=['attributes', 'dtypes', 'nunique', 'sample'])"
      ]
    },
    {
      "attachments": {},
      "cell_type": "markdown",
      "metadata": {},
      "source": [
        "### 1.4 Métricas estatísticas  inicias"
      ]
    },
    {
      "cell_type": "code",
      "execution_count": 65,
      "metadata": {
        "colab": {
          "base_uri": "https://localhost:8080/",
          "height": 364
        },
        "id": "lFhrbuXan_ej",
        "outputId": "629b4729-5bae-453a-cc3d-a85e0d6ee86a"
      },
      "outputs": [
        {
          "data": {
            "text/html": [
              "<div>\n",
              "<style scoped>\n",
              "    .dataframe tbody tr th:only-of-type {\n",
              "        vertical-align: middle;\n",
              "    }\n",
              "\n",
              "    .dataframe tbody tr th {\n",
              "        vertical-align: top;\n",
              "    }\n",
              "\n",
              "    .dataframe thead th {\n",
              "        text-align: right;\n",
              "    }\n",
              "</style>\n",
              "<table border=\"1\" class=\"dataframe\">\n",
              "  <thead>\n",
              "    <tr style=\"text-align: right;\">\n",
              "      <th></th>\n",
              "      <th>id</th>\n",
              "      <th>price</th>\n",
              "      <th>bedrooms</th>\n",
              "      <th>bathrooms</th>\n",
              "      <th>sqft_living</th>\n",
              "      <th>sqft_lot</th>\n",
              "      <th>floors</th>\n",
              "      <th>waterfront</th>\n",
              "      <th>view</th>\n",
              "      <th>condition</th>\n",
              "      <th>grade</th>\n",
              "      <th>sqft_above</th>\n",
              "      <th>sqft_basement</th>\n",
              "      <th>yr_built</th>\n",
              "      <th>yr_renovated</th>\n",
              "      <th>zipcode</th>\n",
              "      <th>lat</th>\n",
              "      <th>long</th>\n",
              "      <th>sqft_living15</th>\n",
              "      <th>sqft_lot15</th>\n",
              "    </tr>\n",
              "  </thead>\n",
              "  <tbody>\n",
              "    <tr>\n",
              "      <th>count</th>\n",
              "      <td>21613.00</td>\n",
              "      <td>21613.00</td>\n",
              "      <td>21613.00</td>\n",
              "      <td>21613.00</td>\n",
              "      <td>21613.00</td>\n",
              "      <td>21613.00</td>\n",
              "      <td>21613.00</td>\n",
              "      <td>21613.00</td>\n",
              "      <td>21613.00</td>\n",
              "      <td>21613.00</td>\n",
              "      <td>21613.00</td>\n",
              "      <td>21613.00</td>\n",
              "      <td>21613.00</td>\n",
              "      <td>21613.00</td>\n",
              "      <td>21613.00</td>\n",
              "      <td>21613.00</td>\n",
              "      <td>21613.00</td>\n",
              "      <td>21613.00</td>\n",
              "      <td>21613.00</td>\n",
              "      <td>21613.00</td>\n",
              "    </tr>\n",
              "    <tr>\n",
              "      <th>mean</th>\n",
              "      <td>4580301520.86</td>\n",
              "      <td>540088.14</td>\n",
              "      <td>3.37</td>\n",
              "      <td>2.11</td>\n",
              "      <td>2079.90</td>\n",
              "      <td>15106.97</td>\n",
              "      <td>1.49</td>\n",
              "      <td>0.01</td>\n",
              "      <td>0.23</td>\n",
              "      <td>3.41</td>\n",
              "      <td>7.66</td>\n",
              "      <td>1788.39</td>\n",
              "      <td>291.51</td>\n",
              "      <td>1971.01</td>\n",
              "      <td>84.40</td>\n",
              "      <td>98077.94</td>\n",
              "      <td>47.56</td>\n",
              "      <td>-122.21</td>\n",
              "      <td>1986.55</td>\n",
              "      <td>12768.46</td>\n",
              "    </tr>\n",
              "    <tr>\n",
              "      <th>std</th>\n",
              "      <td>2876565571.31</td>\n",
              "      <td>367127.20</td>\n",
              "      <td>0.93</td>\n",
              "      <td>0.77</td>\n",
              "      <td>918.44</td>\n",
              "      <td>41420.51</td>\n",
              "      <td>0.54</td>\n",
              "      <td>0.09</td>\n",
              "      <td>0.77</td>\n",
              "      <td>0.65</td>\n",
              "      <td>1.18</td>\n",
              "      <td>828.09</td>\n",
              "      <td>442.58</td>\n",
              "      <td>29.37</td>\n",
              "      <td>401.68</td>\n",
              "      <td>53.51</td>\n",
              "      <td>0.14</td>\n",
              "      <td>0.14</td>\n",
              "      <td>685.39</td>\n",
              "      <td>27304.18</td>\n",
              "    </tr>\n",
              "    <tr>\n",
              "      <th>min</th>\n",
              "      <td>1000102.00</td>\n",
              "      <td>75000.00</td>\n",
              "      <td>0.00</td>\n",
              "      <td>0.00</td>\n",
              "      <td>290.00</td>\n",
              "      <td>520.00</td>\n",
              "      <td>1.00</td>\n",
              "      <td>0.00</td>\n",
              "      <td>0.00</td>\n",
              "      <td>1.00</td>\n",
              "      <td>1.00</td>\n",
              "      <td>290.00</td>\n",
              "      <td>0.00</td>\n",
              "      <td>1900.00</td>\n",
              "      <td>0.00</td>\n",
              "      <td>98001.00</td>\n",
              "      <td>47.16</td>\n",
              "      <td>-122.52</td>\n",
              "      <td>399.00</td>\n",
              "      <td>651.00</td>\n",
              "    </tr>\n",
              "    <tr>\n",
              "      <th>25%</th>\n",
              "      <td>2123049194.00</td>\n",
              "      <td>321950.00</td>\n",
              "      <td>3.00</td>\n",
              "      <td>1.75</td>\n",
              "      <td>1427.00</td>\n",
              "      <td>5040.00</td>\n",
              "      <td>1.00</td>\n",
              "      <td>0.00</td>\n",
              "      <td>0.00</td>\n",
              "      <td>3.00</td>\n",
              "      <td>7.00</td>\n",
              "      <td>1190.00</td>\n",
              "      <td>0.00</td>\n",
              "      <td>1951.00</td>\n",
              "      <td>0.00</td>\n",
              "      <td>98033.00</td>\n",
              "      <td>47.47</td>\n",
              "      <td>-122.33</td>\n",
              "      <td>1490.00</td>\n",
              "      <td>5100.00</td>\n",
              "    </tr>\n",
              "    <tr>\n",
              "      <th>50%</th>\n",
              "      <td>3904930410.00</td>\n",
              "      <td>450000.00</td>\n",
              "      <td>3.00</td>\n",
              "      <td>2.25</td>\n",
              "      <td>1910.00</td>\n",
              "      <td>7618.00</td>\n",
              "      <td>1.50</td>\n",
              "      <td>0.00</td>\n",
              "      <td>0.00</td>\n",
              "      <td>3.00</td>\n",
              "      <td>7.00</td>\n",
              "      <td>1560.00</td>\n",
              "      <td>0.00</td>\n",
              "      <td>1975.00</td>\n",
              "      <td>0.00</td>\n",
              "      <td>98065.00</td>\n",
              "      <td>47.57</td>\n",
              "      <td>-122.23</td>\n",
              "      <td>1840.00</td>\n",
              "      <td>7620.00</td>\n",
              "    </tr>\n",
              "    <tr>\n",
              "      <th>75%</th>\n",
              "      <td>7308900445.00</td>\n",
              "      <td>645000.00</td>\n",
              "      <td>4.00</td>\n",
              "      <td>2.50</td>\n",
              "      <td>2550.00</td>\n",
              "      <td>10688.00</td>\n",
              "      <td>2.00</td>\n",
              "      <td>0.00</td>\n",
              "      <td>0.00</td>\n",
              "      <td>4.00</td>\n",
              "      <td>8.00</td>\n",
              "      <td>2210.00</td>\n",
              "      <td>560.00</td>\n",
              "      <td>1997.00</td>\n",
              "      <td>0.00</td>\n",
              "      <td>98118.00</td>\n",
              "      <td>47.68</td>\n",
              "      <td>-122.12</td>\n",
              "      <td>2360.00</td>\n",
              "      <td>10083.00</td>\n",
              "    </tr>\n",
              "    <tr>\n",
              "      <th>max</th>\n",
              "      <td>9900000190.00</td>\n",
              "      <td>7700000.00</td>\n",
              "      <td>33.00</td>\n",
              "      <td>8.00</td>\n",
              "      <td>13540.00</td>\n",
              "      <td>1651359.00</td>\n",
              "      <td>3.50</td>\n",
              "      <td>1.00</td>\n",
              "      <td>4.00</td>\n",
              "      <td>5.00</td>\n",
              "      <td>13.00</td>\n",
              "      <td>9410.00</td>\n",
              "      <td>4820.00</td>\n",
              "      <td>2015.00</td>\n",
              "      <td>2015.00</td>\n",
              "      <td>98199.00</td>\n",
              "      <td>47.78</td>\n",
              "      <td>-121.31</td>\n",
              "      <td>6210.00</td>\n",
              "      <td>871200.00</td>\n",
              "    </tr>\n",
              "  </tbody>\n",
              "</table>\n",
              "</div>"
            ],
            "text/plain": [
              "                 id      price  bedrooms  bathrooms  sqft_living   sqft_lot  \\\n",
              "count      21613.00   21613.00  21613.00   21613.00     21613.00   21613.00   \n",
              "mean  4580301520.86  540088.14      3.37       2.11      2079.90   15106.97   \n",
              "std   2876565571.31  367127.20      0.93       0.77       918.44   41420.51   \n",
              "min      1000102.00   75000.00      0.00       0.00       290.00     520.00   \n",
              "25%   2123049194.00  321950.00      3.00       1.75      1427.00    5040.00   \n",
              "50%   3904930410.00  450000.00      3.00       2.25      1910.00    7618.00   \n",
              "75%   7308900445.00  645000.00      4.00       2.50      2550.00   10688.00   \n",
              "max   9900000190.00 7700000.00     33.00       8.00     13540.00 1651359.00   \n",
              "\n",
              "        floors  waterfront     view  condition    grade  sqft_above  \\\n",
              "count 21613.00    21613.00 21613.00   21613.00 21613.00    21613.00   \n",
              "mean      1.49        0.01     0.23       3.41     7.66     1788.39   \n",
              "std       0.54        0.09     0.77       0.65     1.18      828.09   \n",
              "min       1.00        0.00     0.00       1.00     1.00      290.00   \n",
              "25%       1.00        0.00     0.00       3.00     7.00     1190.00   \n",
              "50%       1.50        0.00     0.00       3.00     7.00     1560.00   \n",
              "75%       2.00        0.00     0.00       4.00     8.00     2210.00   \n",
              "max       3.50        1.00     4.00       5.00    13.00     9410.00   \n",
              "\n",
              "       sqft_basement  yr_built  yr_renovated  zipcode      lat     long  \\\n",
              "count       21613.00  21613.00      21613.00 21613.00 21613.00 21613.00   \n",
              "mean          291.51   1971.01         84.40 98077.94    47.56  -122.21   \n",
              "std           442.58     29.37        401.68    53.51     0.14     0.14   \n",
              "min             0.00   1900.00          0.00 98001.00    47.16  -122.52   \n",
              "25%             0.00   1951.00          0.00 98033.00    47.47  -122.33   \n",
              "50%             0.00   1975.00          0.00 98065.00    47.57  -122.23   \n",
              "75%           560.00   1997.00          0.00 98118.00    47.68  -122.12   \n",
              "max          4820.00   2015.00       2015.00 98199.00    47.78  -121.31   \n",
              "\n",
              "       sqft_living15  sqft_lot15  \n",
              "count       21613.00    21613.00  \n",
              "mean         1986.55    12768.46  \n",
              "std           685.39    27304.18  \n",
              "min           399.00      651.00  \n",
              "25%          1490.00     5100.00  \n",
              "50%          1840.00     7620.00  \n",
              "75%          2360.00    10083.00  \n",
              "max          6210.00   871200.00  "
            ]
          },
          "execution_count": 65,
          "metadata": {},
          "output_type": "execute_result"
        }
      ],
      "source": [
        "df.describe()"
      ]
    },
    {
      "attachments": {},
      "cell_type": "markdown",
      "metadata": {
        "id": "gi_SqLSOvGTz"
      },
      "source": [
        "## **2.0 Limpeza de dados (Parte 01)**"
      ]
    },
    {
      "attachments": {},
      "cell_type": "markdown",
      "metadata": {},
      "source": [
        "### 2.1 Identificando valores ausentes"
      ]
    },
    {
      "cell_type": "code",
      "execution_count": 66,
      "metadata": {},
      "outputs": [
        {
          "data": {
            "text/html": [
              "<div>\n",
              "<style scoped>\n",
              "    .dataframe tbody tr th:only-of-type {\n",
              "        vertical-align: middle;\n",
              "    }\n",
              "\n",
              "    .dataframe tbody tr th {\n",
              "        vertical-align: top;\n",
              "    }\n",
              "\n",
              "    .dataframe thead th {\n",
              "        text-align: right;\n",
              "    }\n",
              "</style>\n",
              "<table border=\"1\" class=\"dataframe\">\n",
              "  <thead>\n",
              "    <tr style=\"text-align: right;\">\n",
              "      <th></th>\n",
              "      <th>attributes</th>\n",
              "      <th>null</th>\n",
              "      <th>%null</th>\n",
              "    </tr>\n",
              "  </thead>\n",
              "  <tbody>\n",
              "    <tr>\n",
              "      <th>0</th>\n",
              "      <td>id</td>\n",
              "      <td>0</td>\n",
              "      <td>0</td>\n",
              "    </tr>\n",
              "    <tr>\n",
              "      <th>1</th>\n",
              "      <td>date</td>\n",
              "      <td>0</td>\n",
              "      <td>0</td>\n",
              "    </tr>\n",
              "    <tr>\n",
              "      <th>2</th>\n",
              "      <td>price</td>\n",
              "      <td>0</td>\n",
              "      <td>0</td>\n",
              "    </tr>\n",
              "    <tr>\n",
              "      <th>3</th>\n",
              "      <td>bedrooms</td>\n",
              "      <td>0</td>\n",
              "      <td>0</td>\n",
              "    </tr>\n",
              "    <tr>\n",
              "      <th>4</th>\n",
              "      <td>bathrooms</td>\n",
              "      <td>0</td>\n",
              "      <td>0</td>\n",
              "    </tr>\n",
              "    <tr>\n",
              "      <th>5</th>\n",
              "      <td>sqft_living</td>\n",
              "      <td>0</td>\n",
              "      <td>0</td>\n",
              "    </tr>\n",
              "    <tr>\n",
              "      <th>6</th>\n",
              "      <td>sqft_lot</td>\n",
              "      <td>0</td>\n",
              "      <td>0</td>\n",
              "    </tr>\n",
              "    <tr>\n",
              "      <th>7</th>\n",
              "      <td>floors</td>\n",
              "      <td>0</td>\n",
              "      <td>0</td>\n",
              "    </tr>\n",
              "    <tr>\n",
              "      <th>8</th>\n",
              "      <td>waterfront</td>\n",
              "      <td>0</td>\n",
              "      <td>0</td>\n",
              "    </tr>\n",
              "    <tr>\n",
              "      <th>9</th>\n",
              "      <td>view</td>\n",
              "      <td>0</td>\n",
              "      <td>0</td>\n",
              "    </tr>\n",
              "    <tr>\n",
              "      <th>10</th>\n",
              "      <td>condition</td>\n",
              "      <td>0</td>\n",
              "      <td>0</td>\n",
              "    </tr>\n",
              "    <tr>\n",
              "      <th>11</th>\n",
              "      <td>grade</td>\n",
              "      <td>0</td>\n",
              "      <td>0</td>\n",
              "    </tr>\n",
              "    <tr>\n",
              "      <th>12</th>\n",
              "      <td>sqft_above</td>\n",
              "      <td>0</td>\n",
              "      <td>0</td>\n",
              "    </tr>\n",
              "    <tr>\n",
              "      <th>13</th>\n",
              "      <td>sqft_basement</td>\n",
              "      <td>0</td>\n",
              "      <td>0</td>\n",
              "    </tr>\n",
              "    <tr>\n",
              "      <th>14</th>\n",
              "      <td>yr_built</td>\n",
              "      <td>0</td>\n",
              "      <td>0</td>\n",
              "    </tr>\n",
              "    <tr>\n",
              "      <th>15</th>\n",
              "      <td>yr_renovated</td>\n",
              "      <td>0</td>\n",
              "      <td>0</td>\n",
              "    </tr>\n",
              "    <tr>\n",
              "      <th>16</th>\n",
              "      <td>zipcode</td>\n",
              "      <td>0</td>\n",
              "      <td>0</td>\n",
              "    </tr>\n",
              "    <tr>\n",
              "      <th>17</th>\n",
              "      <td>lat</td>\n",
              "      <td>0</td>\n",
              "      <td>0</td>\n",
              "    </tr>\n",
              "    <tr>\n",
              "      <th>18</th>\n",
              "      <td>long</td>\n",
              "      <td>0</td>\n",
              "      <td>0</td>\n",
              "    </tr>\n",
              "    <tr>\n",
              "      <th>19</th>\n",
              "      <td>sqft_living15</td>\n",
              "      <td>0</td>\n",
              "      <td>0</td>\n",
              "    </tr>\n",
              "    <tr>\n",
              "      <th>20</th>\n",
              "      <td>sqft_lot15</td>\n",
              "      <td>0</td>\n",
              "      <td>0</td>\n",
              "    </tr>\n",
              "  </tbody>\n",
              "</table>\n",
              "</div>"
            ],
            "text/plain": [
              "       attributes  null  %null\n",
              "0              id     0      0\n",
              "1            date     0      0\n",
              "2           price     0      0\n",
              "3        bedrooms     0      0\n",
              "4       bathrooms     0      0\n",
              "5     sqft_living     0      0\n",
              "6        sqft_lot     0      0\n",
              "7          floors     0      0\n",
              "8      waterfront     0      0\n",
              "9            view     0      0\n",
              "10      condition     0      0\n",
              "11          grade     0      0\n",
              "12     sqft_above     0      0\n",
              "13  sqft_basement     0      0\n",
              "14       yr_built     0      0\n",
              "15   yr_renovated     0      0\n",
              "16        zipcode     0      0\n",
              "17            lat     0      0\n",
              "18           long     0      0\n",
              "19  sqft_living15     0      0\n",
              "20     sqft_lot15     0      0"
            ]
          },
          "execution_count": 66,
          "metadata": {},
          "output_type": "execute_result"
        }
      ],
      "source": [
        "description = []\n",
        "for i in df.columns:\n",
        "    description.append([\n",
        "        i,\n",
        "        df[i].isna().sum(),\n",
        "        round((df[i].isna().sum()/len(df))*100)\n",
        "    ])\n",
        "\n",
        "pd.DataFrame(data=description, columns=['attributes','null', '%null'])\n",
        "\n",
        "#se a soma de todos for 0 é um excelente resultado e a base não precisa ser tratada"
      ]
    },
    {
      "attachments": {},
      "cell_type": "markdown",
      "metadata": {},
      "source": [
        "### 2.2 Identificando duplicadas"
      ]
    },
    {
      "cell_type": "code",
      "execution_count": 67,
      "metadata": {},
      "outputs": [
        {
          "name": "stdout",
          "output_type": "stream",
          "text": [
            "21613 Número de linhas\n",
            "21436 IDs únicos\n",
            "177   IDs duplicados\n"
          ]
        }
      ],
      "source": [
        "print(df.shape[0], 'Número de linhas')\n",
        "print(df['id'].unique().shape[0], 'IDs únicos')\n",
        "print(df.duplicated('id').sum(), '  IDs duplicados')"
      ]
    },
    {
      "attachments": {},
      "cell_type": "markdown",
      "metadata": {},
      "source": [
        "### 2.3 Removendo as duplicadas"
      ]
    },
    {
      "cell_type": "code",
      "execution_count": 68,
      "metadata": {},
      "outputs": [
        {
          "name": "stdout",
          "output_type": "stream",
          "text": [
            "21436 Número de linhas\n",
            "21436 IDs únicos\n",
            "0     IDs duplicados\n"
          ]
        }
      ],
      "source": [
        "## ordenar dataframe em ordem crescente pela coluna \"Date\"\n",
        "df = df.sort_values('date', ascending=True)\n",
        "\n",
        "## removendo os primeiros ids duplicados registrados\n",
        "df = df.drop_duplicates(subset='id', keep='last')\n",
        "\n",
        "print(df.shape[0], 'Número de linhas')\n",
        "print(df['id'].unique().shape[0], 'IDs únicos')\n",
        "print(df.duplicated('id').sum(), '    IDs duplicados')"
      ]
    },
    {
      "attachments": {},
      "cell_type": "markdown",
      "metadata": {},
      "source": [
        "## **3.0 Formatação e enriquecimento dos dados**"
      ]
    },
    {
      "attachments": {},
      "cell_type": "markdown",
      "metadata": {},
      "source": [
        "### 3.1 Formatando tipos de dados"
      ]
    },
    {
      "cell_type": "code",
      "execution_count": 69,
      "metadata": {},
      "outputs": [
        {
          "data": {
            "text/html": [
              "<div>\n",
              "<style scoped>\n",
              "    .dataframe tbody tr th:only-of-type {\n",
              "        vertical-align: middle;\n",
              "    }\n",
              "\n",
              "    .dataframe tbody tr th {\n",
              "        vertical-align: top;\n",
              "    }\n",
              "\n",
              "    .dataframe thead th {\n",
              "        text-align: right;\n",
              "    }\n",
              "</style>\n",
              "<table border=\"1\" class=\"dataframe\">\n",
              "  <thead>\n",
              "    <tr style=\"text-align: right;\">\n",
              "      <th></th>\n",
              "      <th>date</th>\n",
              "    </tr>\n",
              "  </thead>\n",
              "  <tbody>\n",
              "    <tr>\n",
              "      <th>16768</th>\n",
              "      <td>2014-05-02</td>\n",
              "    </tr>\n",
              "    <tr>\n",
              "      <th>9596</th>\n",
              "      <td>2014-05-02</td>\n",
              "    </tr>\n",
              "    <tr>\n",
              "      <th>9587</th>\n",
              "      <td>2014-05-02</td>\n",
              "    </tr>\n",
              "    <tr>\n",
              "      <th>20602</th>\n",
              "      <td>2014-05-02</td>\n",
              "    </tr>\n",
              "    <tr>\n",
              "      <th>11577</th>\n",
              "      <td>2014-05-02</td>\n",
              "    </tr>\n",
              "  </tbody>\n",
              "</table>\n",
              "</div>"
            ],
            "text/plain": [
              "            date\n",
              "16768 2014-05-02\n",
              "9596  2014-05-02\n",
              "9587  2014-05-02\n",
              "20602 2014-05-02\n",
              "11577 2014-05-02"
            ]
          },
          "metadata": {},
          "output_type": "display_data"
        },
        {
          "data": {
            "text/plain": [
              "date    datetime64[ns]\n",
              "dtype: object"
            ]
          },
          "metadata": {},
          "output_type": "display_data"
        }
      ],
      "source": [
        "# Transformação em \"Date\" de OBJECT > DATE\n",
        "df['date'] = pd.to_datetime(df['date'], format='%Y-%m-%d')\n",
        "\n",
        "# Validando \"Date\"\n",
        "display(df[['date']].head())\n",
        "display(df[['date']].dtypes)"
      ]
    },
    {
      "attachments": {},
      "cell_type": "markdown",
      "metadata": {},
      "source": [
        "### 3.2 Definindo funções geoespaciais"
      ]
    },
    {
      "cell_type": "code",
      "execution_count": 70,
      "metadata": {},
      "outputs": [],
      "source": [
        "# Pegar o nome da cidade no condado\n",
        "def get_city(x):\n",
        "  try:\n",
        "    zcdb = ZipCodeDatabase()\n",
        "    zipcode = zcdb[x]\n",
        "    return zipcode.city\n",
        "  except:\n",
        "    return 'Not found'\n",
        "\n",
        "# No caso, sabemos que todos são de Washington,porém podemos pegar via a biblioteca\n",
        "def get_state(x):\n",
        "  try:\n",
        "    zcdb = ZipCodeDatabase()\n",
        "    zipcode = zcdb[x]\n",
        "    return zipcode.state\n",
        "  except:\n",
        "    return 'Not found'"
      ]
    },
    {
      "attachments": {},
      "cell_type": "markdown",
      "metadata": {},
      "source": [
        "### 3.3 Integrando função no DataFrame"
      ]
    },
    {
      "cell_type": "code",
      "execution_count": 71,
      "metadata": {},
      "outputs": [
        {
          "data": {
            "text/html": [
              "<div>\n",
              "<style scoped>\n",
              "    .dataframe tbody tr th:only-of-type {\n",
              "        vertical-align: middle;\n",
              "    }\n",
              "\n",
              "    .dataframe tbody tr th {\n",
              "        vertical-align: top;\n",
              "    }\n",
              "\n",
              "    .dataframe thead th {\n",
              "        text-align: right;\n",
              "    }\n",
              "</style>\n",
              "<table border=\"1\" class=\"dataframe\">\n",
              "  <thead>\n",
              "    <tr style=\"text-align: right;\">\n",
              "      <th></th>\n",
              "      <th>id</th>\n",
              "      <th>date</th>\n",
              "      <th>price</th>\n",
              "      <th>bedrooms</th>\n",
              "      <th>bathrooms</th>\n",
              "      <th>sqft_living</th>\n",
              "      <th>sqft_lot</th>\n",
              "      <th>floors</th>\n",
              "      <th>waterfront</th>\n",
              "      <th>view</th>\n",
              "      <th>...</th>\n",
              "      <th>zipcode</th>\n",
              "      <th>lat</th>\n",
              "      <th>long</th>\n",
              "      <th>sqft_living15</th>\n",
              "      <th>sqft_lot15</th>\n",
              "      <th>city</th>\n",
              "      <th>state</th>\n",
              "      <th>sqft_free</th>\n",
              "      <th>$/ft2_living</th>\n",
              "      <th>$/ft</th>\n",
              "    </tr>\n",
              "  </thead>\n",
              "  <tbody>\n",
              "    <tr>\n",
              "      <th>16667</th>\n",
              "      <td>7153400010</td>\n",
              "      <td>2014-08-12</td>\n",
              "      <td>190500.00</td>\n",
              "      <td>3</td>\n",
              "      <td>2.00</td>\n",
              "      <td>1390</td>\n",
              "      <td>10155</td>\n",
              "      <td>1.00</td>\n",
              "      <td>0</td>\n",
              "      <td>0</td>\n",
              "      <td>...</td>\n",
              "      <td>98003</td>\n",
              "      <td>47.26</td>\n",
              "      <td>-122.31</td>\n",
              "      <td>1790</td>\n",
              "      <td>10155</td>\n",
              "      <td>Federal Way</td>\n",
              "      <td>WA</td>\n",
              "      <td>8765</td>\n",
              "      <td>137.05</td>\n",
              "      <td>18.76</td>\n",
              "    </tr>\n",
              "  </tbody>\n",
              "</table>\n",
              "<p>1 rows × 26 columns</p>\n",
              "</div>"
            ],
            "text/plain": [
              "               id       date     price  bedrooms  bathrooms  sqft_living  \\\n",
              "16667  7153400010 2014-08-12 190500.00         3       2.00         1390   \n",
              "\n",
              "       sqft_lot  floors  waterfront  view  ...  zipcode   lat    long  \\\n",
              "16667     10155    1.00           0     0  ...    98003 47.26 -122.31   \n",
              "\n",
              "       sqft_living15  sqft_lot15         city  state  sqft_free  $/ft2_living  \\\n",
              "16667           1790       10155  Federal Way     WA       8765        137.05   \n",
              "\n",
              "       $/ft  \n",
              "16667 18.76  \n",
              "\n",
              "[1 rows x 26 columns]"
            ]
          },
          "execution_count": 71,
          "metadata": {},
          "output_type": "execute_result"
        }
      ],
      "source": [
        "df['city'] = df['zipcode'].apply(lambda x: get_city(x))\n",
        "df['state'] = df['zipcode'].apply(lambda x: get_state(x))\n",
        "\n",
        "# Métricas calculadas\n",
        "# -- Área livre para construção - Indicativo de expansão\n",
        "df['sqft_free'] = df['sqft_lot'] - df['sqft_living']\n",
        "\n",
        "# -- Preço por área habitável\n",
        "df['$/ft2_living'] = df['price']/df['sqft_living']\n",
        "\n",
        "# -- Preço por área do lote\n",
        "df['$/ft'] = df['price']/df['sqft_lot']\n",
        "df.sample(1)"
      ]
    },
    {
      "attachments": {},
      "cell_type": "markdown",
      "metadata": {},
      "source": [
        "### 3.4 Ordenando cálculo de lucro"
      ]
    },
    {
      "cell_type": "code",
      "execution_count": 72,
      "metadata": {},
      "outputs": [
        {
          "data": {
            "text/html": [
              "<div>\n",
              "<style scoped>\n",
              "    .dataframe tbody tr th:only-of-type {\n",
              "        vertical-align: middle;\n",
              "    }\n",
              "\n",
              "    .dataframe tbody tr th {\n",
              "        vertical-align: top;\n",
              "    }\n",
              "\n",
              "    .dataframe thead th {\n",
              "        text-align: right;\n",
              "    }\n",
              "</style>\n",
              "<table border=\"1\" class=\"dataframe\">\n",
              "  <thead>\n",
              "    <tr style=\"text-align: right;\">\n",
              "      <th></th>\n",
              "      <th>id</th>\n",
              "      <th>date</th>\n",
              "      <th>price</th>\n",
              "      <th>bedrooms</th>\n",
              "      <th>bathrooms</th>\n",
              "      <th>sqft_living</th>\n",
              "      <th>sqft_lot</th>\n",
              "      <th>floors</th>\n",
              "      <th>waterfront</th>\n",
              "      <th>view</th>\n",
              "      <th>...</th>\n",
              "      <th>zipcode</th>\n",
              "      <th>lat</th>\n",
              "      <th>long</th>\n",
              "      <th>sqft_living15</th>\n",
              "      <th>sqft_lot15</th>\n",
              "      <th>city</th>\n",
              "      <th>state</th>\n",
              "      <th>sqft_free</th>\n",
              "      <th>$/ft2_living</th>\n",
              "      <th>$/ft</th>\n",
              "    </tr>\n",
              "  </thead>\n",
              "  <tbody>\n",
              "    <tr>\n",
              "      <th>0</th>\n",
              "      <td>1000102</td>\n",
              "      <td>2015-04-22</td>\n",
              "      <td>300000.00</td>\n",
              "      <td>6</td>\n",
              "      <td>3.00</td>\n",
              "      <td>2400</td>\n",
              "      <td>9373</td>\n",
              "      <td>2.00</td>\n",
              "      <td>0</td>\n",
              "      <td>0</td>\n",
              "      <td>...</td>\n",
              "      <td>98002</td>\n",
              "      <td>47.33</td>\n",
              "      <td>-122.21</td>\n",
              "      <td>2060</td>\n",
              "      <td>7316</td>\n",
              "      <td>Auburn</td>\n",
              "      <td>WA</td>\n",
              "      <td>6973</td>\n",
              "      <td>125.00</td>\n",
              "      <td>32.01</td>\n",
              "    </tr>\n",
              "    <tr>\n",
              "      <th>1</th>\n",
              "      <td>1200019</td>\n",
              "      <td>2014-05-08</td>\n",
              "      <td>647500.00</td>\n",
              "      <td>4</td>\n",
              "      <td>1.75</td>\n",
              "      <td>2060</td>\n",
              "      <td>26036</td>\n",
              "      <td>1.00</td>\n",
              "      <td>0</td>\n",
              "      <td>0</td>\n",
              "      <td>...</td>\n",
              "      <td>98166</td>\n",
              "      <td>47.44</td>\n",
              "      <td>-122.35</td>\n",
              "      <td>2590</td>\n",
              "      <td>21891</td>\n",
              "      <td>Seattle</td>\n",
              "      <td>WA</td>\n",
              "      <td>23976</td>\n",
              "      <td>314.32</td>\n",
              "      <td>24.87</td>\n",
              "    </tr>\n",
              "    <tr>\n",
              "      <th>2</th>\n",
              "      <td>1200021</td>\n",
              "      <td>2014-08-11</td>\n",
              "      <td>400000.00</td>\n",
              "      <td>3</td>\n",
              "      <td>1.00</td>\n",
              "      <td>1460</td>\n",
              "      <td>43000</td>\n",
              "      <td>1.00</td>\n",
              "      <td>0</td>\n",
              "      <td>0</td>\n",
              "      <td>...</td>\n",
              "      <td>98166</td>\n",
              "      <td>47.44</td>\n",
              "      <td>-122.35</td>\n",
              "      <td>2250</td>\n",
              "      <td>20023</td>\n",
              "      <td>Seattle</td>\n",
              "      <td>WA</td>\n",
              "      <td>41540</td>\n",
              "      <td>273.97</td>\n",
              "      <td>9.30</td>\n",
              "    </tr>\n",
              "    <tr>\n",
              "      <th>3</th>\n",
              "      <td>2800031</td>\n",
              "      <td>2015-04-01</td>\n",
              "      <td>235000.00</td>\n",
              "      <td>3</td>\n",
              "      <td>1.00</td>\n",
              "      <td>1430</td>\n",
              "      <td>7599</td>\n",
              "      <td>1.50</td>\n",
              "      <td>0</td>\n",
              "      <td>0</td>\n",
              "      <td>...</td>\n",
              "      <td>98168</td>\n",
              "      <td>47.48</td>\n",
              "      <td>-122.27</td>\n",
              "      <td>1290</td>\n",
              "      <td>10320</td>\n",
              "      <td>Seattle</td>\n",
              "      <td>WA</td>\n",
              "      <td>6169</td>\n",
              "      <td>164.34</td>\n",
              "      <td>30.93</td>\n",
              "    </tr>\n",
              "    <tr>\n",
              "      <th>4</th>\n",
              "      <td>3600057</td>\n",
              "      <td>2015-03-19</td>\n",
              "      <td>402500.00</td>\n",
              "      <td>4</td>\n",
              "      <td>2.00</td>\n",
              "      <td>1650</td>\n",
              "      <td>3504</td>\n",
              "      <td>1.00</td>\n",
              "      <td>0</td>\n",
              "      <td>0</td>\n",
              "      <td>...</td>\n",
              "      <td>98144</td>\n",
              "      <td>47.58</td>\n",
              "      <td>-122.29</td>\n",
              "      <td>1480</td>\n",
              "      <td>3504</td>\n",
              "      <td>Seattle</td>\n",
              "      <td>WA</td>\n",
              "      <td>1854</td>\n",
              "      <td>243.94</td>\n",
              "      <td>114.87</td>\n",
              "    </tr>\n",
              "    <tr>\n",
              "      <th>...</th>\n",
              "      <td>...</td>\n",
              "      <td>...</td>\n",
              "      <td>...</td>\n",
              "      <td>...</td>\n",
              "      <td>...</td>\n",
              "      <td>...</td>\n",
              "      <td>...</td>\n",
              "      <td>...</td>\n",
              "      <td>...</td>\n",
              "      <td>...</td>\n",
              "      <td>...</td>\n",
              "      <td>...</td>\n",
              "      <td>...</td>\n",
              "      <td>...</td>\n",
              "      <td>...</td>\n",
              "      <td>...</td>\n",
              "      <td>...</td>\n",
              "      <td>...</td>\n",
              "      <td>...</td>\n",
              "      <td>...</td>\n",
              "      <td>...</td>\n",
              "    </tr>\n",
              "    <tr>\n",
              "      <th>21431</th>\n",
              "      <td>9842300095</td>\n",
              "      <td>2014-07-25</td>\n",
              "      <td>365000.00</td>\n",
              "      <td>5</td>\n",
              "      <td>2.00</td>\n",
              "      <td>1600</td>\n",
              "      <td>4168</td>\n",
              "      <td>1.50</td>\n",
              "      <td>0</td>\n",
              "      <td>0</td>\n",
              "      <td>...</td>\n",
              "      <td>98126</td>\n",
              "      <td>47.53</td>\n",
              "      <td>-122.38</td>\n",
              "      <td>1190</td>\n",
              "      <td>4168</td>\n",
              "      <td>Seattle</td>\n",
              "      <td>WA</td>\n",
              "      <td>2568</td>\n",
              "      <td>228.12</td>\n",
              "      <td>87.57</td>\n",
              "    </tr>\n",
              "    <tr>\n",
              "      <th>21432</th>\n",
              "      <td>9842300485</td>\n",
              "      <td>2015-03-11</td>\n",
              "      <td>380000.00</td>\n",
              "      <td>2</td>\n",
              "      <td>1.00</td>\n",
              "      <td>1040</td>\n",
              "      <td>7372</td>\n",
              "      <td>1.00</td>\n",
              "      <td>0</td>\n",
              "      <td>0</td>\n",
              "      <td>...</td>\n",
              "      <td>98126</td>\n",
              "      <td>47.53</td>\n",
              "      <td>-122.38</td>\n",
              "      <td>1930</td>\n",
              "      <td>5150</td>\n",
              "      <td>Seattle</td>\n",
              "      <td>WA</td>\n",
              "      <td>6332</td>\n",
              "      <td>365.38</td>\n",
              "      <td>51.55</td>\n",
              "    </tr>\n",
              "    <tr>\n",
              "      <th>21433</th>\n",
              "      <td>9842300540</td>\n",
              "      <td>2014-06-24</td>\n",
              "      <td>339000.00</td>\n",
              "      <td>3</td>\n",
              "      <td>1.00</td>\n",
              "      <td>1100</td>\n",
              "      <td>4128</td>\n",
              "      <td>1.00</td>\n",
              "      <td>0</td>\n",
              "      <td>0</td>\n",
              "      <td>...</td>\n",
              "      <td>98126</td>\n",
              "      <td>47.53</td>\n",
              "      <td>-122.38</td>\n",
              "      <td>1510</td>\n",
              "      <td>4538</td>\n",
              "      <td>Seattle</td>\n",
              "      <td>WA</td>\n",
              "      <td>3028</td>\n",
              "      <td>308.18</td>\n",
              "      <td>82.12</td>\n",
              "    </tr>\n",
              "    <tr>\n",
              "      <th>21434</th>\n",
              "      <td>9895000040</td>\n",
              "      <td>2014-07-03</td>\n",
              "      <td>399900.00</td>\n",
              "      <td>2</td>\n",
              "      <td>1.75</td>\n",
              "      <td>1410</td>\n",
              "      <td>1005</td>\n",
              "      <td>1.50</td>\n",
              "      <td>0</td>\n",
              "      <td>0</td>\n",
              "      <td>...</td>\n",
              "      <td>98027</td>\n",
              "      <td>47.54</td>\n",
              "      <td>-122.02</td>\n",
              "      <td>1440</td>\n",
              "      <td>1188</td>\n",
              "      <td>Issaquah</td>\n",
              "      <td>WA</td>\n",
              "      <td>-405</td>\n",
              "      <td>283.62</td>\n",
              "      <td>397.91</td>\n",
              "    </tr>\n",
              "    <tr>\n",
              "      <th>21435</th>\n",
              "      <td>9900000190</td>\n",
              "      <td>2014-10-30</td>\n",
              "      <td>268950.00</td>\n",
              "      <td>3</td>\n",
              "      <td>1.00</td>\n",
              "      <td>1320</td>\n",
              "      <td>8100</td>\n",
              "      <td>1.00</td>\n",
              "      <td>0</td>\n",
              "      <td>0</td>\n",
              "      <td>...</td>\n",
              "      <td>98166</td>\n",
              "      <td>47.47</td>\n",
              "      <td>-122.35</td>\n",
              "      <td>1000</td>\n",
              "      <td>8100</td>\n",
              "      <td>Seattle</td>\n",
              "      <td>WA</td>\n",
              "      <td>6780</td>\n",
              "      <td>203.75</td>\n",
              "      <td>33.20</td>\n",
              "    </tr>\n",
              "  </tbody>\n",
              "</table>\n",
              "<p>21436 rows × 26 columns</p>\n",
              "</div>"
            ],
            "text/plain": [
              "               id       date     price  bedrooms  bathrooms  sqft_living  \\\n",
              "0         1000102 2015-04-22 300000.00         6       3.00         2400   \n",
              "1         1200019 2014-05-08 647500.00         4       1.75         2060   \n",
              "2         1200021 2014-08-11 400000.00         3       1.00         1460   \n",
              "3         2800031 2015-04-01 235000.00         3       1.00         1430   \n",
              "4         3600057 2015-03-19 402500.00         4       2.00         1650   \n",
              "...           ...        ...       ...       ...        ...          ...   \n",
              "21431  9842300095 2014-07-25 365000.00         5       2.00         1600   \n",
              "21432  9842300485 2015-03-11 380000.00         2       1.00         1040   \n",
              "21433  9842300540 2014-06-24 339000.00         3       1.00         1100   \n",
              "21434  9895000040 2014-07-03 399900.00         2       1.75         1410   \n",
              "21435  9900000190 2014-10-30 268950.00         3       1.00         1320   \n",
              "\n",
              "       sqft_lot  floors  waterfront  view  ...  zipcode   lat    long  \\\n",
              "0          9373    2.00           0     0  ...    98002 47.33 -122.21   \n",
              "1         26036    1.00           0     0  ...    98166 47.44 -122.35   \n",
              "2         43000    1.00           0     0  ...    98166 47.44 -122.35   \n",
              "3          7599    1.50           0     0  ...    98168 47.48 -122.27   \n",
              "4          3504    1.00           0     0  ...    98144 47.58 -122.29   \n",
              "...         ...     ...         ...   ...  ...      ...   ...     ...   \n",
              "21431      4168    1.50           0     0  ...    98126 47.53 -122.38   \n",
              "21432      7372    1.00           0     0  ...    98126 47.53 -122.38   \n",
              "21433      4128    1.00           0     0  ...    98126 47.53 -122.38   \n",
              "21434      1005    1.50           0     0  ...    98027 47.54 -122.02   \n",
              "21435      8100    1.00           0     0  ...    98166 47.47 -122.35   \n",
              "\n",
              "       sqft_living15  sqft_lot15      city  state  sqft_free  $/ft2_living  \\\n",
              "0               2060        7316    Auburn     WA       6973        125.00   \n",
              "1               2590       21891   Seattle     WA      23976        314.32   \n",
              "2               2250       20023   Seattle     WA      41540        273.97   \n",
              "3               1290       10320   Seattle     WA       6169        164.34   \n",
              "4               1480        3504   Seattle     WA       1854        243.94   \n",
              "...              ...         ...       ...    ...        ...           ...   \n",
              "21431           1190        4168   Seattle     WA       2568        228.12   \n",
              "21432           1930        5150   Seattle     WA       6332        365.38   \n",
              "21433           1510        4538   Seattle     WA       3028        308.18   \n",
              "21434           1440        1188  Issaquah     WA       -405        283.62   \n",
              "21435           1000        8100   Seattle     WA       6780        203.75   \n",
              "\n",
              "        $/ft  \n",
              "0      32.01  \n",
              "1      24.87  \n",
              "2       9.30  \n",
              "3      30.93  \n",
              "4     114.87  \n",
              "...      ...  \n",
              "21431  87.57  \n",
              "21432  51.55  \n",
              "21433  82.12  \n",
              "21434 397.91  \n",
              "21435  33.20  \n",
              "\n",
              "[21436 rows x 26 columns]"
            ]
          },
          "execution_count": 72,
          "metadata": {},
          "output_type": "execute_result"
        }
      ],
      "source": [
        "df.sort_values(['id','date']).reset_index(drop=True)"
      ]
    },
    {
      "attachments": {},
      "cell_type": "markdown",
      "metadata": {},
      "source": [
        "### 3.5 Defininfo cálculo do lucro máximo"
      ]
    },
    {
      "cell_type": "code",
      "execution_count": 73,
      "metadata": {},
      "outputs": [],
      "source": [
        "profit_list = []\n",
        "df_sorted = df.sort_values(['id','date']).reset_index(drop=True)\n",
        "for i in range(0, df_sorted.shape[0]):\n",
        "  if i == 0:\n",
        "    profit_list.append(0)\n",
        "    pass\n",
        "  else:\n",
        "    if df_sorted.iloc[i,0] == df_sorted.iloc[i-1,0]:\n",
        "      profit_list.append(df_sorted.iloc[i,2]-df_sorted.iloc[i-1,2])\n",
        "    else:\n",
        "      profit_list.append(0)"
      ]
    },
    {
      "cell_type": "code",
      "execution_count": 74,
      "metadata": {},
      "outputs": [
        {
          "data": {
            "text/html": [
              "<div>\n",
              "<style scoped>\n",
              "    .dataframe tbody tr th:only-of-type {\n",
              "        vertical-align: middle;\n",
              "    }\n",
              "\n",
              "    .dataframe tbody tr th {\n",
              "        vertical-align: top;\n",
              "    }\n",
              "\n",
              "    .dataframe thead th {\n",
              "        text-align: right;\n",
              "    }\n",
              "</style>\n",
              "<table border=\"1\" class=\"dataframe\">\n",
              "  <thead>\n",
              "    <tr style=\"text-align: right;\">\n",
              "      <th></th>\n",
              "      <th>id</th>\n",
              "      <th>date</th>\n",
              "      <th>price</th>\n",
              "      <th>bedrooms</th>\n",
              "      <th>bathrooms</th>\n",
              "      <th>sqft_living</th>\n",
              "      <th>sqft_lot</th>\n",
              "      <th>floors</th>\n",
              "      <th>waterfront</th>\n",
              "      <th>view</th>\n",
              "      <th>...</th>\n",
              "      <th>lat</th>\n",
              "      <th>long</th>\n",
              "      <th>sqft_living15</th>\n",
              "      <th>sqft_lot15</th>\n",
              "      <th>city</th>\n",
              "      <th>state</th>\n",
              "      <th>sqft_free</th>\n",
              "      <th>$/ft2_living</th>\n",
              "      <th>$/ft</th>\n",
              "      <th>profit</th>\n",
              "    </tr>\n",
              "  </thead>\n",
              "  <tbody>\n",
              "    <tr>\n",
              "      <th>1605</th>\n",
              "      <td>795000620</td>\n",
              "      <td>2015-03-11</td>\n",
              "      <td>157000.00</td>\n",
              "      <td>3</td>\n",
              "      <td>1.00</td>\n",
              "      <td>1080</td>\n",
              "      <td>6250</td>\n",
              "      <td>1.00</td>\n",
              "      <td>0</td>\n",
              "      <td>0</td>\n",
              "      <td>...</td>\n",
              "      <td>47.50</td>\n",
              "      <td>-122.33</td>\n",
              "      <td>1070</td>\n",
              "      <td>6250</td>\n",
              "      <td>Seattle</td>\n",
              "      <td>WA</td>\n",
              "      <td>5170</td>\n",
              "      <td>145.37</td>\n",
              "      <td>25.12</td>\n",
              "      <td>0</td>\n",
              "    </tr>\n",
              "  </tbody>\n",
              "</table>\n",
              "<p>1 rows × 27 columns</p>\n",
              "</div>"
            ],
            "text/plain": [
              "             id       date     price  bedrooms  bathrooms  sqft_living  \\\n",
              "1605  795000620 2015-03-11 157000.00         3       1.00         1080   \n",
              "\n",
              "      sqft_lot  floors  waterfront  view  ...   lat    long  sqft_living15  \\\n",
              "1605      6250    1.00           0     0  ... 47.50 -122.33           1070   \n",
              "\n",
              "      sqft_lot15     city  state  sqft_free  $/ft2_living  $/ft  profit  \n",
              "1605        6250  Seattle     WA       5170        145.37 25.12       0  \n",
              "\n",
              "[1 rows x 27 columns]"
            ]
          },
          "execution_count": 74,
          "metadata": {},
          "output_type": "execute_result"
        }
      ],
      "source": [
        "sorted(profit_list,reverse=True)[:10]\n",
        "\n",
        "df_sorted['profit'] = profit_list\n",
        "df_sorted[df_sorted.id == 795000620]"
      ]
    },
    {
      "attachments": {},
      "cell_type": "markdown",
      "metadata": {},
      "source": [
        "## **4.0 Limpeza dos dados (Parte 02)**"
      ]
    },
    {
      "attachments": {},
      "cell_type": "markdown",
      "metadata": {},
      "source": [
        "### 4.1 Definindo percentis"
      ]
    },
    {
      "cell_type": "code",
      "execution_count": 75,
      "metadata": {},
      "outputs": [
        {
          "data": {
            "text/html": [
              "<div>\n",
              "<style scoped>\n",
              "    .dataframe tbody tr th:only-of-type {\n",
              "        vertical-align: middle;\n",
              "    }\n",
              "\n",
              "    .dataframe tbody tr th {\n",
              "        vertical-align: top;\n",
              "    }\n",
              "\n",
              "    .dataframe thead th {\n",
              "        text-align: right;\n",
              "    }\n",
              "</style>\n",
              "<table border=\"1\" class=\"dataframe\">\n",
              "  <thead>\n",
              "    <tr style=\"text-align: right;\">\n",
              "      <th></th>\n",
              "      <th>id</th>\n",
              "      <th>price</th>\n",
              "      <th>bedrooms</th>\n",
              "      <th>bathrooms</th>\n",
              "      <th>sqft_living</th>\n",
              "      <th>sqft_lot</th>\n",
              "      <th>floors</th>\n",
              "      <th>waterfront</th>\n",
              "      <th>view</th>\n",
              "      <th>condition</th>\n",
              "      <th>...</th>\n",
              "      <th>yr_renovated</th>\n",
              "      <th>zipcode</th>\n",
              "      <th>lat</th>\n",
              "      <th>long</th>\n",
              "      <th>sqft_living15</th>\n",
              "      <th>sqft_lot15</th>\n",
              "      <th>sqft_free</th>\n",
              "      <th>$/ft2_living</th>\n",
              "      <th>$/ft</th>\n",
              "      <th>profit</th>\n",
              "    </tr>\n",
              "  </thead>\n",
              "  <tbody>\n",
              "    <tr>\n",
              "      <th>count</th>\n",
              "      <td>21436.00</td>\n",
              "      <td>21436.00</td>\n",
              "      <td>21436.00</td>\n",
              "      <td>21436.00</td>\n",
              "      <td>21436.00</td>\n",
              "      <td>21436.00</td>\n",
              "      <td>21436.00</td>\n",
              "      <td>21436.00</td>\n",
              "      <td>21436.00</td>\n",
              "      <td>21436.00</td>\n",
              "      <td>...</td>\n",
              "      <td>21436.00</td>\n",
              "      <td>21436.00</td>\n",
              "      <td>21436.00</td>\n",
              "      <td>21436.00</td>\n",
              "      <td>21436.00</td>\n",
              "      <td>21436.00</td>\n",
              "      <td>21436.00</td>\n",
              "      <td>21436.00</td>\n",
              "      <td>21436.00</td>\n",
              "      <td>21436.00</td>\n",
              "    </tr>\n",
              "    <tr>\n",
              "      <th>mean</th>\n",
              "      <td>4580765328.18</td>\n",
              "      <td>541649.96</td>\n",
              "      <td>3.37</td>\n",
              "      <td>2.12</td>\n",
              "      <td>2082.70</td>\n",
              "      <td>15135.64</td>\n",
              "      <td>1.50</td>\n",
              "      <td>0.01</td>\n",
              "      <td>0.24</td>\n",
              "      <td>3.41</td>\n",
              "      <td>...</td>\n",
              "      <td>84.73</td>\n",
              "      <td>98077.86</td>\n",
              "      <td>47.56</td>\n",
              "      <td>-122.21</td>\n",
              "      <td>1988.31</td>\n",
              "      <td>12785.96</td>\n",
              "      <td>13052.93</td>\n",
              "      <td>264.72</td>\n",
              "      <td>89.29</td>\n",
              "      <td>0.00</td>\n",
              "    </tr>\n",
              "    <tr>\n",
              "      <th>std</th>\n",
              "      <td>2876589633.67</td>\n",
              "      <td>367314.93</td>\n",
              "      <td>0.93</td>\n",
              "      <td>0.77</td>\n",
              "      <td>919.15</td>\n",
              "      <td>41538.62</td>\n",
              "      <td>0.54</td>\n",
              "      <td>0.09</td>\n",
              "      <td>0.77</td>\n",
              "      <td>0.65</td>\n",
              "      <td>...</td>\n",
              "      <td>402.43</td>\n",
              "      <td>53.47</td>\n",
              "      <td>0.14</td>\n",
              "      <td>0.14</td>\n",
              "      <td>685.70</td>\n",
              "      <td>27375.47</td>\n",
              "      <td>41390.47</td>\n",
              "      <td>109.97</td>\n",
              "      <td>94.26</td>\n",
              "      <td>0.00</td>\n",
              "    </tr>\n",
              "    <tr>\n",
              "      <th>min</th>\n",
              "      <td>1000102.00</td>\n",
              "      <td>75000.00</td>\n",
              "      <td>0.00</td>\n",
              "      <td>0.00</td>\n",
              "      <td>290.00</td>\n",
              "      <td>520.00</td>\n",
              "      <td>1.00</td>\n",
              "      <td>0.00</td>\n",
              "      <td>0.00</td>\n",
              "      <td>1.00</td>\n",
              "      <td>...</td>\n",
              "      <td>0.00</td>\n",
              "      <td>98001.00</td>\n",
              "      <td>47.16</td>\n",
              "      <td>-122.52</td>\n",
              "      <td>399.00</td>\n",
              "      <td>651.00</td>\n",
              "      <td>-1900.00</td>\n",
              "      <td>87.59</td>\n",
              "      <td>0.16</td>\n",
              "      <td>0.00</td>\n",
              "    </tr>\n",
              "    <tr>\n",
              "      <th>50%</th>\n",
              "      <td>3904921185.00</td>\n",
              "      <td>450000.00</td>\n",
              "      <td>3.00</td>\n",
              "      <td>2.25</td>\n",
              "      <td>1920.00</td>\n",
              "      <td>7614.00</td>\n",
              "      <td>1.50</td>\n",
              "      <td>0.00</td>\n",
              "      <td>0.00</td>\n",
              "      <td>3.00</td>\n",
              "      <td>...</td>\n",
              "      <td>0.00</td>\n",
              "      <td>98065.00</td>\n",
              "      <td>47.57</td>\n",
              "      <td>-122.23</td>\n",
              "      <td>1840.00</td>\n",
              "      <td>7620.00</td>\n",
              "      <td>5700.00</td>\n",
              "      <td>245.24</td>\n",
              "      <td>59.52</td>\n",
              "      <td>0.00</td>\n",
              "    </tr>\n",
              "    <tr>\n",
              "      <th>95%</th>\n",
              "      <td>9297300627.50</td>\n",
              "      <td>1160000.00</td>\n",
              "      <td>5.00</td>\n",
              "      <td>3.50</td>\n",
              "      <td>3770.00</td>\n",
              "      <td>43560.00</td>\n",
              "      <td>2.00</td>\n",
              "      <td>0.00</td>\n",
              "      <td>2.00</td>\n",
              "      <td>5.00</td>\n",
              "      <td>...</td>\n",
              "      <td>0.00</td>\n",
              "      <td>98177.00</td>\n",
              "      <td>47.75</td>\n",
              "      <td>-121.98</td>\n",
              "      <td>3300.00</td>\n",
              "      <td>37197.00</td>\n",
              "      <td>40620.75</td>\n",
              "      <td>473.29</td>\n",
              "      <td>282.51</td>\n",
              "      <td>0.00</td>\n",
              "    </tr>\n",
              "    <tr>\n",
              "      <th>97.5%</th>\n",
              "      <td>9510970597.50</td>\n",
              "      <td>1488000.00</td>\n",
              "      <td>5.00</td>\n",
              "      <td>3.75</td>\n",
              "      <td>4270.00</td>\n",
              "      <td>85653.62</td>\n",
              "      <td>3.00</td>\n",
              "      <td>0.00</td>\n",
              "      <td>3.00</td>\n",
              "      <td>5.00</td>\n",
              "      <td>...</td>\n",
              "      <td>1995.00</td>\n",
              "      <td>98198.00</td>\n",
              "      <td>47.76</td>\n",
              "      <td>-121.88</td>\n",
              "      <td>3670.00</td>\n",
              "      <td>60548.00</td>\n",
              "      <td>82180.88</td>\n",
              "      <td>549.38</td>\n",
              "      <td>372.12</td>\n",
              "      <td>0.00</td>\n",
              "    </tr>\n",
              "    <tr>\n",
              "      <th>99%</th>\n",
              "      <td>9558200067.75</td>\n",
              "      <td>1968327.00</td>\n",
              "      <td>6.00</td>\n",
              "      <td>4.25</td>\n",
              "      <td>4980.00</td>\n",
              "      <td>213008.00</td>\n",
              "      <td>3.00</td>\n",
              "      <td>0.00</td>\n",
              "      <td>4.00</td>\n",
              "      <td>5.00</td>\n",
              "      <td>...</td>\n",
              "      <td>2008.00</td>\n",
              "      <td>98199.00</td>\n",
              "      <td>47.77</td>\n",
              "      <td>-121.78</td>\n",
              "      <td>4086.50</td>\n",
              "      <td>158536.55</td>\n",
              "      <td>210643.30</td>\n",
              "      <td>632.42</td>\n",
              "      <td>458.75</td>\n",
              "      <td>0.00</td>\n",
              "    </tr>\n",
              "    <tr>\n",
              "      <th>99.5%</th>\n",
              "      <td>9828202182.62</td>\n",
              "      <td>2457212.50</td>\n",
              "      <td>6.00</td>\n",
              "      <td>4.50</td>\n",
              "      <td>5597.20</td>\n",
              "      <td>248393.68</td>\n",
              "      <td>3.00</td>\n",
              "      <td>1.00</td>\n",
              "      <td>4.00</td>\n",
              "      <td>5.00</td>\n",
              "      <td>...</td>\n",
              "      <td>2013.00</td>\n",
              "      <td>98199.00</td>\n",
              "      <td>47.77</td>\n",
              "      <td>-121.76</td>\n",
              "      <td>4440.00</td>\n",
              "      <td>216928.00</td>\n",
              "      <td>243991.08</td>\n",
              "      <td>682.53</td>\n",
              "      <td>528.56</td>\n",
              "      <td>0.00</td>\n",
              "    </tr>\n",
              "    <tr>\n",
              "      <th>max</th>\n",
              "      <td>9900000190.00</td>\n",
              "      <td>7700000.00</td>\n",
              "      <td>33.00</td>\n",
              "      <td>8.00</td>\n",
              "      <td>13540.00</td>\n",
              "      <td>1651359.00</td>\n",
              "      <td>3.50</td>\n",
              "      <td>1.00</td>\n",
              "      <td>4.00</td>\n",
              "      <td>5.00</td>\n",
              "      <td>...</td>\n",
              "      <td>2015.00</td>\n",
              "      <td>98199.00</td>\n",
              "      <td>47.78</td>\n",
              "      <td>-121.31</td>\n",
              "      <td>6210.00</td>\n",
              "      <td>871200.00</td>\n",
              "      <td>1650059.00</td>\n",
              "      <td>810.14</td>\n",
              "      <td>2027.21</td>\n",
              "      <td>0.00</td>\n",
              "    </tr>\n",
              "  </tbody>\n",
              "</table>\n",
              "<p>10 rows × 24 columns</p>\n",
              "</div>"
            ],
            "text/plain": [
              "                 id      price  bedrooms  bathrooms  sqft_living   sqft_lot  \\\n",
              "count      21436.00   21436.00  21436.00   21436.00     21436.00   21436.00   \n",
              "mean  4580765328.18  541649.96      3.37       2.12      2082.70   15135.64   \n",
              "std   2876589633.67  367314.93      0.93       0.77       919.15   41538.62   \n",
              "min      1000102.00   75000.00      0.00       0.00       290.00     520.00   \n",
              "50%   3904921185.00  450000.00      3.00       2.25      1920.00    7614.00   \n",
              "95%   9297300627.50 1160000.00      5.00       3.50      3770.00   43560.00   \n",
              "97.5% 9510970597.50 1488000.00      5.00       3.75      4270.00   85653.62   \n",
              "99%   9558200067.75 1968327.00      6.00       4.25      4980.00  213008.00   \n",
              "99.5% 9828202182.62 2457212.50      6.00       4.50      5597.20  248393.68   \n",
              "max   9900000190.00 7700000.00     33.00       8.00     13540.00 1651359.00   \n",
              "\n",
              "        floors  waterfront     view  condition  ...  yr_renovated  zipcode  \\\n",
              "count 21436.00    21436.00 21436.00   21436.00  ...      21436.00 21436.00   \n",
              "mean      1.50        0.01     0.24       3.41  ...         84.73 98077.86   \n",
              "std       0.54        0.09     0.77       0.65  ...        402.43    53.47   \n",
              "min       1.00        0.00     0.00       1.00  ...          0.00 98001.00   \n",
              "50%       1.50        0.00     0.00       3.00  ...          0.00 98065.00   \n",
              "95%       2.00        0.00     2.00       5.00  ...          0.00 98177.00   \n",
              "97.5%     3.00        0.00     3.00       5.00  ...       1995.00 98198.00   \n",
              "99%       3.00        0.00     4.00       5.00  ...       2008.00 98199.00   \n",
              "99.5%     3.00        1.00     4.00       5.00  ...       2013.00 98199.00   \n",
              "max       3.50        1.00     4.00       5.00  ...       2015.00 98199.00   \n",
              "\n",
              "           lat     long  sqft_living15  sqft_lot15  sqft_free  $/ft2_living  \\\n",
              "count 21436.00 21436.00       21436.00    21436.00   21436.00      21436.00   \n",
              "mean     47.56  -122.21        1988.31    12785.96   13052.93        264.72   \n",
              "std       0.14     0.14         685.70    27375.47   41390.47        109.97   \n",
              "min      47.16  -122.52         399.00      651.00   -1900.00         87.59   \n",
              "50%      47.57  -122.23        1840.00     7620.00    5700.00        245.24   \n",
              "95%      47.75  -121.98        3300.00    37197.00   40620.75        473.29   \n",
              "97.5%    47.76  -121.88        3670.00    60548.00   82180.88        549.38   \n",
              "99%      47.77  -121.78        4086.50   158536.55  210643.30        632.42   \n",
              "99.5%    47.77  -121.76        4440.00   216928.00  243991.08        682.53   \n",
              "max      47.78  -121.31        6210.00   871200.00 1650059.00        810.14   \n",
              "\n",
              "          $/ft   profit  \n",
              "count 21436.00 21436.00  \n",
              "mean     89.29     0.00  \n",
              "std      94.26     0.00  \n",
              "min       0.16     0.00  \n",
              "50%      59.52     0.00  \n",
              "95%     282.51     0.00  \n",
              "97.5%   372.12     0.00  \n",
              "99%     458.75     0.00  \n",
              "99.5%   528.56     0.00  \n",
              "max    2027.21     0.00  \n",
              "\n",
              "[10 rows x 24 columns]"
            ]
          },
          "execution_count": 75,
          "metadata": {},
          "output_type": "execute_result"
        }
      ],
      "source": [
        "df = df_sorted\n",
        "df.drop_duplicates(inplace=True)\n",
        "df.describe(percentiles=[0.95,0.975,0.99, 0.995])"
      ]
    },
    {
      "attachments": {},
      "cell_type": "markdown",
      "metadata": {},
      "source": [
        "### 4.2 Definindo limitantes (99.5%)"
      ]
    },
    {
      "cell_type": "code",
      "execution_count": 76,
      "metadata": {},
      "outputs": [
        {
          "data": {
            "text/html": [
              "<div>\n",
              "<style scoped>\n",
              "    .dataframe tbody tr th:only-of-type {\n",
              "        vertical-align: middle;\n",
              "    }\n",
              "\n",
              "    .dataframe tbody tr th {\n",
              "        vertical-align: top;\n",
              "    }\n",
              "\n",
              "    .dataframe thead th {\n",
              "        text-align: right;\n",
              "    }\n",
              "</style>\n",
              "<table border=\"1\" class=\"dataframe\">\n",
              "  <thead>\n",
              "    <tr style=\"text-align: right;\">\n",
              "      <th></th>\n",
              "      <th>price</th>\n",
              "      <th>bedrooms</th>\n",
              "      <th>bathrooms</th>\n",
              "      <th>sqft_living</th>\n",
              "      <th>sqft_lot</th>\n",
              "      <th>floors</th>\n",
              "      <th>view</th>\n",
              "      <th>condition</th>\n",
              "      <th>grade</th>\n",
              "      <th>sqft_above</th>\n",
              "      <th>sqft_basement</th>\n",
              "      <th>sqft_living15</th>\n",
              "      <th>sqft_lot15</th>\n",
              "      <th>profit</th>\n",
              "    </tr>\n",
              "  </thead>\n",
              "  <tbody>\n",
              "    <tr>\n",
              "      <th>count</th>\n",
              "      <td>21436.00</td>\n",
              "      <td>21436.00</td>\n",
              "      <td>21436.00</td>\n",
              "      <td>21436.00</td>\n",
              "      <td>21436.00</td>\n",
              "      <td>21436.00</td>\n",
              "      <td>21436.00</td>\n",
              "      <td>21436.00</td>\n",
              "      <td>21436.00</td>\n",
              "      <td>21436.00</td>\n",
              "      <td>21436.00</td>\n",
              "      <td>21436.00</td>\n",
              "      <td>21436.00</td>\n",
              "      <td>21436.00</td>\n",
              "    </tr>\n",
              "    <tr>\n",
              "      <th>mean</th>\n",
              "      <td>541649.96</td>\n",
              "      <td>3.37</td>\n",
              "      <td>2.12</td>\n",
              "      <td>2082.70</td>\n",
              "      <td>15135.64</td>\n",
              "      <td>1.50</td>\n",
              "      <td>0.24</td>\n",
              "      <td>3.41</td>\n",
              "      <td>7.66</td>\n",
              "      <td>1790.96</td>\n",
              "      <td>291.74</td>\n",
              "      <td>1988.31</td>\n",
              "      <td>12785.96</td>\n",
              "      <td>0.00</td>\n",
              "    </tr>\n",
              "    <tr>\n",
              "      <th>std</th>\n",
              "      <td>367314.93</td>\n",
              "      <td>0.93</td>\n",
              "      <td>0.77</td>\n",
              "      <td>919.15</td>\n",
              "      <td>41538.62</td>\n",
              "      <td>0.54</td>\n",
              "      <td>0.77</td>\n",
              "      <td>0.65</td>\n",
              "      <td>1.17</td>\n",
              "      <td>829.03</td>\n",
              "      <td>442.78</td>\n",
              "      <td>685.70</td>\n",
              "      <td>27375.47</td>\n",
              "      <td>0.00</td>\n",
              "    </tr>\n",
              "    <tr>\n",
              "      <th>min</th>\n",
              "      <td>75000.00</td>\n",
              "      <td>0.00</td>\n",
              "      <td>0.00</td>\n",
              "      <td>290.00</td>\n",
              "      <td>520.00</td>\n",
              "      <td>1.00</td>\n",
              "      <td>0.00</td>\n",
              "      <td>1.00</td>\n",
              "      <td>1.00</td>\n",
              "      <td>290.00</td>\n",
              "      <td>0.00</td>\n",
              "      <td>399.00</td>\n",
              "      <td>651.00</td>\n",
              "      <td>0.00</td>\n",
              "    </tr>\n",
              "    <tr>\n",
              "      <th>50%</th>\n",
              "      <td>450000.00</td>\n",
              "      <td>3.00</td>\n",
              "      <td>2.25</td>\n",
              "      <td>1920.00</td>\n",
              "      <td>7614.00</td>\n",
              "      <td>1.50</td>\n",
              "      <td>0.00</td>\n",
              "      <td>3.00</td>\n",
              "      <td>7.00</td>\n",
              "      <td>1560.00</td>\n",
              "      <td>0.00</td>\n",
              "      <td>1840.00</td>\n",
              "      <td>7620.00</td>\n",
              "      <td>0.00</td>\n",
              "    </tr>\n",
              "    <tr>\n",
              "      <th>99.5%</th>\n",
              "      <td>2457212.50</td>\n",
              "      <td>6.00</td>\n",
              "      <td>4.50</td>\n",
              "      <td>5597.20</td>\n",
              "      <td>248393.68</td>\n",
              "      <td>3.00</td>\n",
              "      <td>4.00</td>\n",
              "      <td>5.00</td>\n",
              "      <td>11.00</td>\n",
              "      <td>4828.25</td>\n",
              "      <td>1868.25</td>\n",
              "      <td>4440.00</td>\n",
              "      <td>216928.00</td>\n",
              "      <td>0.00</td>\n",
              "    </tr>\n",
              "    <tr>\n",
              "      <th>max</th>\n",
              "      <td>7700000.00</td>\n",
              "      <td>33.00</td>\n",
              "      <td>8.00</td>\n",
              "      <td>13540.00</td>\n",
              "      <td>1651359.00</td>\n",
              "      <td>3.50</td>\n",
              "      <td>4.00</td>\n",
              "      <td>5.00</td>\n",
              "      <td>13.00</td>\n",
              "      <td>9410.00</td>\n",
              "      <td>4820.00</td>\n",
              "      <td>6210.00</td>\n",
              "      <td>871200.00</td>\n",
              "      <td>0.00</td>\n",
              "    </tr>\n",
              "  </tbody>\n",
              "</table>\n",
              "</div>"
            ],
            "text/plain": [
              "           price  bedrooms  bathrooms  sqft_living   sqft_lot   floors  \\\n",
              "count   21436.00  21436.00   21436.00     21436.00   21436.00 21436.00   \n",
              "mean   541649.96      3.37       2.12      2082.70   15135.64     1.50   \n",
              "std    367314.93      0.93       0.77       919.15   41538.62     0.54   \n",
              "min     75000.00      0.00       0.00       290.00     520.00     1.00   \n",
              "50%    450000.00      3.00       2.25      1920.00    7614.00     1.50   \n",
              "99.5% 2457212.50      6.00       4.50      5597.20  248393.68     3.00   \n",
              "max   7700000.00     33.00       8.00     13540.00 1651359.00     3.50   \n",
              "\n",
              "          view  condition    grade  sqft_above  sqft_basement  sqft_living15  \\\n",
              "count 21436.00   21436.00 21436.00    21436.00       21436.00       21436.00   \n",
              "mean      0.24       3.41     7.66     1790.96         291.74        1988.31   \n",
              "std       0.77       0.65     1.17      829.03         442.78         685.70   \n",
              "min       0.00       1.00     1.00      290.00           0.00         399.00   \n",
              "50%       0.00       3.00     7.00     1560.00           0.00        1840.00   \n",
              "99.5%     4.00       5.00    11.00     4828.25        1868.25        4440.00   \n",
              "max       4.00       5.00    13.00     9410.00        4820.00        6210.00   \n",
              "\n",
              "       sqft_lot15   profit  \n",
              "count    21436.00 21436.00  \n",
              "mean     12785.96     0.00  \n",
              "std      27375.47     0.00  \n",
              "min        651.00     0.00  \n",
              "50%       7620.00     0.00  \n",
              "99.5%   216928.00     0.00  \n",
              "max     871200.00     0.00  "
            ]
          },
          "execution_count": 76,
          "metadata": {},
          "output_type": "execute_result"
        }
      ],
      "source": [
        "describe_df = df.describe(percentiles=[0.995])\n",
        "dic_lim = describe_df[['price', 'bedrooms', 'bathrooms', 'sqft_living',\n",
        "                                'sqft_lot', 'floors', 'view', 'condition',\n",
        "                                'grade','sqft_above', 'sqft_basement','sqft_living15', 'sqft_lot15','profit']]\n",
        "dic_lim"
      ]
    },
    {
      "cell_type": "code",
      "execution_count": 77,
      "metadata": {},
      "outputs": [
        {
          "data": {
            "text/html": [
              "<div>\n",
              "<style scoped>\n",
              "    .dataframe tbody tr th:only-of-type {\n",
              "        vertical-align: middle;\n",
              "    }\n",
              "\n",
              "    .dataframe tbody tr th {\n",
              "        vertical-align: top;\n",
              "    }\n",
              "\n",
              "    .dataframe thead th {\n",
              "        text-align: right;\n",
              "    }\n",
              "</style>\n",
              "<table border=\"1\" class=\"dataframe\">\n",
              "  <thead>\n",
              "    <tr style=\"text-align: right;\">\n",
              "      <th></th>\n",
              "      <th>id</th>\n",
              "      <th>price</th>\n",
              "      <th>bedrooms</th>\n",
              "      <th>bathrooms</th>\n",
              "      <th>sqft_living</th>\n",
              "      <th>sqft_lot</th>\n",
              "      <th>floors</th>\n",
              "      <th>waterfront</th>\n",
              "      <th>view</th>\n",
              "      <th>condition</th>\n",
              "      <th>...</th>\n",
              "      <th>yr_renovated</th>\n",
              "      <th>zipcode</th>\n",
              "      <th>lat</th>\n",
              "      <th>long</th>\n",
              "      <th>sqft_living15</th>\n",
              "      <th>sqft_lot15</th>\n",
              "      <th>sqft_free</th>\n",
              "      <th>$/ft2_living</th>\n",
              "      <th>$/ft</th>\n",
              "      <th>profit</th>\n",
              "    </tr>\n",
              "  </thead>\n",
              "  <tbody>\n",
              "    <tr>\n",
              "      <th>count</th>\n",
              "      <td>20827.00</td>\n",
              "      <td>20827.00</td>\n",
              "      <td>20827.00</td>\n",
              "      <td>20827.00</td>\n",
              "      <td>20827.00</td>\n",
              "      <td>20827.00</td>\n",
              "      <td>20827.00</td>\n",
              "      <td>20827.00</td>\n",
              "      <td>20827.00</td>\n",
              "      <td>20827.00</td>\n",
              "      <td>...</td>\n",
              "      <td>20827.00</td>\n",
              "      <td>20827.00</td>\n",
              "      <td>20827.00</td>\n",
              "      <td>20827.00</td>\n",
              "      <td>20827.00</td>\n",
              "      <td>20827.00</td>\n",
              "      <td>20827.00</td>\n",
              "      <td>20827.00</td>\n",
              "      <td>20827.00</td>\n",
              "      <td>20827.00</td>\n",
              "    </tr>\n",
              "    <tr>\n",
              "      <th>mean</th>\n",
              "      <td>4611096830.57</td>\n",
              "      <td>515722.21</td>\n",
              "      <td>3.34</td>\n",
              "      <td>2.08</td>\n",
              "      <td>2018.97</td>\n",
              "      <td>12165.77</td>\n",
              "      <td>1.49</td>\n",
              "      <td>0.01</td>\n",
              "      <td>0.21</td>\n",
              "      <td>3.41</td>\n",
              "      <td>...</td>\n",
              "      <td>82.89</td>\n",
              "      <td>98078.56</td>\n",
              "      <td>47.56</td>\n",
              "      <td>-122.22</td>\n",
              "      <td>1954.68</td>\n",
              "      <td>10977.88</td>\n",
              "      <td>10146.80</td>\n",
              "      <td>263.02</td>\n",
              "      <td>89.36</td>\n",
              "      <td>0.00</td>\n",
              "    </tr>\n",
              "    <tr>\n",
              "      <th>std</th>\n",
              "      <td>2877165779.77</td>\n",
              "      <td>288896.97</td>\n",
              "      <td>0.87</td>\n",
              "      <td>0.72</td>\n",
              "      <td>803.99</td>\n",
              "      <td>21558.02</td>\n",
              "      <td>0.54</td>\n",
              "      <td>0.08</td>\n",
              "      <td>0.72</td>\n",
              "      <td>0.65</td>\n",
              "      <td>...</td>\n",
              "      <td>398.22</td>\n",
              "      <td>53.52</td>\n",
              "      <td>0.14</td>\n",
              "      <td>0.14</td>\n",
              "      <td>637.99</td>\n",
              "      <td>17790.75</td>\n",
              "      <td>21422.94</td>\n",
              "      <td>107.54</td>\n",
              "      <td>93.90</td>\n",
              "      <td>0.00</td>\n",
              "    </tr>\n",
              "    <tr>\n",
              "      <th>min</th>\n",
              "      <td>1000102.00</td>\n",
              "      <td>75000.00</td>\n",
              "      <td>0.00</td>\n",
              "      <td>0.00</td>\n",
              "      <td>290.00</td>\n",
              "      <td>520.00</td>\n",
              "      <td>1.00</td>\n",
              "      <td>0.00</td>\n",
              "      <td>0.00</td>\n",
              "      <td>1.00</td>\n",
              "      <td>...</td>\n",
              "      <td>0.00</td>\n",
              "      <td>98001.00</td>\n",
              "      <td>47.16</td>\n",
              "      <td>-122.52</td>\n",
              "      <td>460.00</td>\n",
              "      <td>651.00</td>\n",
              "      <td>-1900.00</td>\n",
              "      <td>87.59</td>\n",
              "      <td>0.71</td>\n",
              "      <td>0.00</td>\n",
              "    </tr>\n",
              "    <tr>\n",
              "      <th>25%</th>\n",
              "      <td>2141075095.00</td>\n",
              "      <td>320000.00</td>\n",
              "      <td>3.00</td>\n",
              "      <td>1.50</td>\n",
              "      <td>1410.00</td>\n",
              "      <td>5000.00</td>\n",
              "      <td>1.00</td>\n",
              "      <td>0.00</td>\n",
              "      <td>0.00</td>\n",
              "      <td>3.00</td>\n",
              "      <td>...</td>\n",
              "      <td>0.00</td>\n",
              "      <td>98033.00</td>\n",
              "      <td>47.47</td>\n",
              "      <td>-122.33</td>\n",
              "      <td>1480.00</td>\n",
              "      <td>5060.00</td>\n",
              "      <td>3038.50</td>\n",
              "      <td>182.31</td>\n",
              "      <td>33.88</td>\n",
              "      <td>0.00</td>\n",
              "    </tr>\n",
              "    <tr>\n",
              "      <th>50%</th>\n",
              "      <td>3935900232.00</td>\n",
              "      <td>447500.00</td>\n",
              "      <td>3.00</td>\n",
              "      <td>2.25</td>\n",
              "      <td>1890.00</td>\n",
              "      <td>7500.00</td>\n",
              "      <td>1.50</td>\n",
              "      <td>0.00</td>\n",
              "      <td>0.00</td>\n",
              "      <td>3.00</td>\n",
              "      <td>...</td>\n",
              "      <td>0.00</td>\n",
              "      <td>98070.00</td>\n",
              "      <td>47.57</td>\n",
              "      <td>-122.23</td>\n",
              "      <td>1820.00</td>\n",
              "      <td>7546.00</td>\n",
              "      <td>5615.00</td>\n",
              "      <td>244.47</td>\n",
              "      <td>59.64</td>\n",
              "      <td>0.00</td>\n",
              "    </tr>\n",
              "    <tr>\n",
              "      <th>75%</th>\n",
              "      <td>7338402770.00</td>\n",
              "      <td>630000.00</td>\n",
              "      <td>4.00</td>\n",
              "      <td>2.50</td>\n",
              "      <td>2500.00</td>\n",
              "      <td>10320.50</td>\n",
              "      <td>2.00</td>\n",
              "      <td>0.00</td>\n",
              "      <td>0.00</td>\n",
              "      <td>4.00</td>\n",
              "      <td>...</td>\n",
              "      <td>0.00</td>\n",
              "      <td>98118.00</td>\n",
              "      <td>47.68</td>\n",
              "      <td>-122.13</td>\n",
              "      <td>2330.00</td>\n",
              "      <td>9900.00</td>\n",
              "      <td>8403.00</td>\n",
              "      <td>317.44</td>\n",
              "      <td>107.45</td>\n",
              "      <td>0.00</td>\n",
              "    </tr>\n",
              "    <tr>\n",
              "      <th>max</th>\n",
              "      <td>9900000190.00</td>\n",
              "      <td>2453500.00</td>\n",
              "      <td>6.00</td>\n",
              "      <td>4.50</td>\n",
              "      <td>5570.00</td>\n",
              "      <td>246114.00</td>\n",
              "      <td>3.00</td>\n",
              "      <td>1.00</td>\n",
              "      <td>4.00</td>\n",
              "      <td>5.00</td>\n",
              "      <td>...</td>\n",
              "      <td>2015.00</td>\n",
              "      <td>98199.00</td>\n",
              "      <td>47.78</td>\n",
              "      <td>-121.31</td>\n",
              "      <td>4440.00</td>\n",
              "      <td>216928.00</td>\n",
              "      <td>243314.00</td>\n",
              "      <td>810.14</td>\n",
              "      <td>2027.21</td>\n",
              "      <td>0.00</td>\n",
              "    </tr>\n",
              "  </tbody>\n",
              "</table>\n",
              "<p>8 rows × 24 columns</p>\n",
              "</div>"
            ],
            "text/plain": [
              "                 id      price  bedrooms  bathrooms  sqft_living  sqft_lot  \\\n",
              "count      20827.00   20827.00  20827.00   20827.00     20827.00  20827.00   \n",
              "mean  4611096830.57  515722.21      3.34       2.08      2018.97  12165.77   \n",
              "std   2877165779.77  288896.97      0.87       0.72       803.99  21558.02   \n",
              "min      1000102.00   75000.00      0.00       0.00       290.00    520.00   \n",
              "25%   2141075095.00  320000.00      3.00       1.50      1410.00   5000.00   \n",
              "50%   3935900232.00  447500.00      3.00       2.25      1890.00   7500.00   \n",
              "75%   7338402770.00  630000.00      4.00       2.50      2500.00  10320.50   \n",
              "max   9900000190.00 2453500.00      6.00       4.50      5570.00 246114.00   \n",
              "\n",
              "        floors  waterfront     view  condition  ...  yr_renovated  zipcode  \\\n",
              "count 20827.00    20827.00 20827.00   20827.00  ...      20827.00 20827.00   \n",
              "mean      1.49        0.01     0.21       3.41  ...         82.89 98078.56   \n",
              "std       0.54        0.08     0.72       0.65  ...        398.22    53.52   \n",
              "min       1.00        0.00     0.00       1.00  ...          0.00 98001.00   \n",
              "25%       1.00        0.00     0.00       3.00  ...          0.00 98033.00   \n",
              "50%       1.50        0.00     0.00       3.00  ...          0.00 98070.00   \n",
              "75%       2.00        0.00     0.00       4.00  ...          0.00 98118.00   \n",
              "max       3.00        1.00     4.00       5.00  ...       2015.00 98199.00   \n",
              "\n",
              "           lat     long  sqft_living15  sqft_lot15  sqft_free  $/ft2_living  \\\n",
              "count 20827.00 20827.00       20827.00    20827.00   20827.00      20827.00   \n",
              "mean     47.56  -122.22        1954.68    10977.88   10146.80        263.02   \n",
              "std       0.14     0.14         637.99    17790.75   21422.94        107.54   \n",
              "min      47.16  -122.52         460.00      651.00   -1900.00         87.59   \n",
              "25%      47.47  -122.33        1480.00     5060.00    3038.50        182.31   \n",
              "50%      47.57  -122.23        1820.00     7546.00    5615.00        244.47   \n",
              "75%      47.68  -122.13        2330.00     9900.00    8403.00        317.44   \n",
              "max      47.78  -121.31        4440.00   216928.00  243314.00        810.14   \n",
              "\n",
              "          $/ft   profit  \n",
              "count 20827.00 20827.00  \n",
              "mean     89.36     0.00  \n",
              "std      93.90     0.00  \n",
              "min       0.71     0.00  \n",
              "25%      33.88     0.00  \n",
              "50%      59.64     0.00  \n",
              "75%     107.45     0.00  \n",
              "max    2027.21     0.00  \n",
              "\n",
              "[8 rows x 24 columns]"
            ]
          },
          "execution_count": 77,
          "metadata": {},
          "output_type": "execute_result"
        }
      ],
      "source": [
        "df_clean = df.copy()\n",
        "for i in dic_lim.columns:\n",
        "  df_clean = df_clean[df_clean[i] <= dic_lim.loc['99.5%',i]]\n",
        "df_clean.reset_index(drop=True,inplace = True)\n",
        "df_clean.describe()"
      ]
    },
    {
      "attachments": {},
      "cell_type": "markdown",
      "metadata": {},
      "source": [
        "### 4.3 Exportando o novo dataset (Clean)"
      ]
    },
    {
      "cell_type": "code",
      "execution_count": 78,
      "metadata": {},
      "outputs": [],
      "source": [
        "df_clean.to_csv('Dataset/kc_house_data_clean.csv')"
      ]
    },
    {
      "attachments": {},
      "cell_type": "markdown",
      "metadata": {},
      "source": [
        "## **5.0 Visualizando os dados**"
      ]
    },
    {
      "attachments": {},
      "cell_type": "markdown",
      "metadata": {},
      "source": [
        "### 5.1 Impacto dos preços"
      ]
    },
    {
      "cell_type": "code",
      "execution_count": 79,
      "metadata": {},
      "outputs": [
        {
          "name": "stderr",
          "output_type": "stream",
          "text": [
            "C:\\Users\\Public\\Documents\\Wondershare\\CreatorTemp\\ipykernel_11916\\2852680904.py:1: FutureWarning:\n",
            "\n",
            "The default value of numeric_only in DataFrame.corr is deprecated. In a future version, it will default to False. Select only valid columns or specify the value of numeric_only to silence this warning.\n",
            "\n"
          ]
        },
        {
          "data": {
            "text/plain": [
              "price           1.00\n",
              "sqft_living     0.65\n",
              "grade           0.65\n",
              "sqft_living15   0.57\n",
              "$/ft2_living    0.56\n",
              "sqft_above      0.55\n",
              "bathrooms       0.48\n",
              "lat             0.37\n",
              "view            0.35\n",
              "$/ft            0.34\n",
              "bedrooms        0.31\n",
              "sqft_basement   0.27\n",
              "floors          0.27\n",
              "waterfront      0.17\n",
              "yr_renovated    0.13\n",
              "sqft_lot        0.08\n",
              "sqft_lot15      0.07\n",
              "sqft_free       0.05\n",
              "condition       0.05\n",
              "yr_built        0.03\n",
              "zipcode         0.03\n",
              "id              0.01\n",
              "long            0.01\n",
              "profit           NaN\n",
              "Name: price, dtype: float64"
            ]
          },
          "execution_count": 79,
          "metadata": {},
          "output_type": "execute_result"
        }
      ],
      "source": [
        "df_clean.corr()['price'].abs().sort_values(ascending = False)"
      ]
    },
    {
      "attachments": {},
      "cell_type": "markdown",
      "metadata": {},
      "source": [
        "### 5.2 Média dos preços"
      ]
    },
    {
      "cell_type": "code",
      "execution_count": 80,
      "metadata": {},
      "outputs": [
        {
          "name": "stderr",
          "output_type": "stream",
          "text": [
            "C:\\Users\\Public\\Documents\\Wondershare\\CreatorTemp\\ipykernel_11916\\1824251140.py:2: FutureWarning:\n",
            "\n",
            "The default value of numeric_only in DataFrameGroupBy.mean is deprecated. In a future version, numeric_only will default to False. Either specify numeric_only or select only columns which should be valid for the function.\n",
            "\n"
          ]
        },
        {
          "data": {
            "application/vnd.plotly.v1+json": {
              "config": {
                "plotlyServerURL": "https://plot.ly"
              },
              "data": [
                {
                  "meta": [
                    152.93285309768797,
                    335.36730957727656,
                    210.51811677912053,
                    226.76719207244875,
                    217.42430070005523,
                    200.15712137595844,
                    172.63378921024983,
                    252.3213012973589,
                    152.5802931600438,
                    260.2947609815155,
                    225.3680401320896,
                    160.2194750978571,
                    297.27964342723817,
                    172.27582676481245,
                    549.8876205631963,
                    381.32394594146746,
                    220.6424556227265,
                    245.6965234760517,
                    276.1945674734656,
                    196.36282708879,
                    266.8307568770408,
                    304.8849702350708,
                    209.84106941131117,
                    278.8416128808693,
                    248.25239542478758
                  ],
                  "name": "Mean Price",
                  "type": "bar",
                  "x": [
                    "Auburn",
                    "Bellevue",
                    "Black Diamond",
                    "Bothell",
                    "Carnation",
                    "Duvall",
                    "Enumclaw",
                    "Fall City",
                    "Federal Way",
                    "Issaquah",
                    "Kenmore",
                    "Kent",
                    "Kirkland",
                    "Maple Valley",
                    "Medina",
                    "Mercer Island",
                    "North Bend",
                    "Not found",
                    "Redmond",
                    "Renton",
                    "Sammamish",
                    "Seattle",
                    "Snoqualmie",
                    "Vashon",
                    "Woodinville"
                  ],
                  "y": [
                    152.93285309768797,
                    335.36730957727656,
                    210.51811677912053,
                    226.76719207244875,
                    217.42430070005523,
                    200.15712137595844,
                    172.63378921024983,
                    252.3213012973589,
                    152.5802931600438,
                    260.2947609815155,
                    225.3680401320896,
                    160.2194750978571,
                    297.27964342723817,
                    172.27582676481245,
                    549.8876205631963,
                    381.32394594146746,
                    220.6424556227265,
                    245.6965234760517,
                    276.1945674734656,
                    196.36282708879,
                    266.8307568770408,
                    304.8849702350708,
                    209.84106941131117,
                    278.8416128808693,
                    248.25239542478758
                  ]
                },
                {
                  "marker": {
                    "color": "#44FF00",
                    "opacity": 0.5,
                    "size": 1
                  },
                  "mode": "lines",
                  "name": "Max",
                  "type": "scatter",
                  "x": [
                    "Auburn",
                    "Woodinville"
                  ],
                  "y": [
                    810.1388888888889,
                    810.1388888888889
                  ]
                },
                {
                  "marker": {
                    "color": "#FF0600",
                    "opacity": 0.5,
                    "size": 1
                  },
                  "mode": "lines",
                  "name": "Min",
                  "type": "scatter",
                  "x": [
                    "Auburn",
                    "Woodinville"
                  ],
                  "y": [
                    87.58823529411765,
                    87.58823529411765
                  ]
                },
                {
                  "marker": {
                    "color": "#666666",
                    "opacity": 0.5,
                    "size": 1
                  },
                  "mode": "lines",
                  "name": "Mean",
                  "type": "scatter",
                  "x": [
                    "Auburn",
                    "Woodinville"
                  ],
                  "y": [
                    263.0159514002279,
                    263.0159514002279
                  ]
                }
              ],
              "layout": {
                "paper_bgcolor": "rgba(0,0,0,0)",
                "plot_bgcolor": "rgba(0,0,0,0)",
                "template": {
                  "data": {
                    "bar": [
                      {
                        "error_x": {
                          "color": "#2a3f5f"
                        },
                        "error_y": {
                          "color": "#2a3f5f"
                        },
                        "marker": {
                          "line": {
                            "color": "#E5ECF6",
                            "width": 0.5
                          },
                          "pattern": {
                            "fillmode": "overlay",
                            "size": 10,
                            "solidity": 0.2
                          }
                        },
                        "type": "bar"
                      }
                    ],
                    "barpolar": [
                      {
                        "marker": {
                          "line": {
                            "color": "#E5ECF6",
                            "width": 0.5
                          },
                          "pattern": {
                            "fillmode": "overlay",
                            "size": 10,
                            "solidity": 0.2
                          }
                        },
                        "type": "barpolar"
                      }
                    ],
                    "carpet": [
                      {
                        "aaxis": {
                          "endlinecolor": "#2a3f5f",
                          "gridcolor": "white",
                          "linecolor": "white",
                          "minorgridcolor": "white",
                          "startlinecolor": "#2a3f5f"
                        },
                        "baxis": {
                          "endlinecolor": "#2a3f5f",
                          "gridcolor": "white",
                          "linecolor": "white",
                          "minorgridcolor": "white",
                          "startlinecolor": "#2a3f5f"
                        },
                        "type": "carpet"
                      }
                    ],
                    "choropleth": [
                      {
                        "colorbar": {
                          "outlinewidth": 0,
                          "ticks": ""
                        },
                        "type": "choropleth"
                      }
                    ],
                    "contour": [
                      {
                        "colorbar": {
                          "outlinewidth": 0,
                          "ticks": ""
                        },
                        "colorscale": [
                          [
                            0,
                            "#0d0887"
                          ],
                          [
                            0.1111111111111111,
                            "#46039f"
                          ],
                          [
                            0.2222222222222222,
                            "#7201a8"
                          ],
                          [
                            0.3333333333333333,
                            "#9c179e"
                          ],
                          [
                            0.4444444444444444,
                            "#bd3786"
                          ],
                          [
                            0.5555555555555556,
                            "#d8576b"
                          ],
                          [
                            0.6666666666666666,
                            "#ed7953"
                          ],
                          [
                            0.7777777777777778,
                            "#fb9f3a"
                          ],
                          [
                            0.8888888888888888,
                            "#fdca26"
                          ],
                          [
                            1,
                            "#f0f921"
                          ]
                        ],
                        "type": "contour"
                      }
                    ],
                    "contourcarpet": [
                      {
                        "colorbar": {
                          "outlinewidth": 0,
                          "ticks": ""
                        },
                        "type": "contourcarpet"
                      }
                    ],
                    "heatmap": [
                      {
                        "colorbar": {
                          "outlinewidth": 0,
                          "ticks": ""
                        },
                        "colorscale": [
                          [
                            0,
                            "#0d0887"
                          ],
                          [
                            0.1111111111111111,
                            "#46039f"
                          ],
                          [
                            0.2222222222222222,
                            "#7201a8"
                          ],
                          [
                            0.3333333333333333,
                            "#9c179e"
                          ],
                          [
                            0.4444444444444444,
                            "#bd3786"
                          ],
                          [
                            0.5555555555555556,
                            "#d8576b"
                          ],
                          [
                            0.6666666666666666,
                            "#ed7953"
                          ],
                          [
                            0.7777777777777778,
                            "#fb9f3a"
                          ],
                          [
                            0.8888888888888888,
                            "#fdca26"
                          ],
                          [
                            1,
                            "#f0f921"
                          ]
                        ],
                        "type": "heatmap"
                      }
                    ],
                    "heatmapgl": [
                      {
                        "colorbar": {
                          "outlinewidth": 0,
                          "ticks": ""
                        },
                        "colorscale": [
                          [
                            0,
                            "#0d0887"
                          ],
                          [
                            0.1111111111111111,
                            "#46039f"
                          ],
                          [
                            0.2222222222222222,
                            "#7201a8"
                          ],
                          [
                            0.3333333333333333,
                            "#9c179e"
                          ],
                          [
                            0.4444444444444444,
                            "#bd3786"
                          ],
                          [
                            0.5555555555555556,
                            "#d8576b"
                          ],
                          [
                            0.6666666666666666,
                            "#ed7953"
                          ],
                          [
                            0.7777777777777778,
                            "#fb9f3a"
                          ],
                          [
                            0.8888888888888888,
                            "#fdca26"
                          ],
                          [
                            1,
                            "#f0f921"
                          ]
                        ],
                        "type": "heatmapgl"
                      }
                    ],
                    "histogram": [
                      {
                        "marker": {
                          "pattern": {
                            "fillmode": "overlay",
                            "size": 10,
                            "solidity": 0.2
                          }
                        },
                        "type": "histogram"
                      }
                    ],
                    "histogram2d": [
                      {
                        "colorbar": {
                          "outlinewidth": 0,
                          "ticks": ""
                        },
                        "colorscale": [
                          [
                            0,
                            "#0d0887"
                          ],
                          [
                            0.1111111111111111,
                            "#46039f"
                          ],
                          [
                            0.2222222222222222,
                            "#7201a8"
                          ],
                          [
                            0.3333333333333333,
                            "#9c179e"
                          ],
                          [
                            0.4444444444444444,
                            "#bd3786"
                          ],
                          [
                            0.5555555555555556,
                            "#d8576b"
                          ],
                          [
                            0.6666666666666666,
                            "#ed7953"
                          ],
                          [
                            0.7777777777777778,
                            "#fb9f3a"
                          ],
                          [
                            0.8888888888888888,
                            "#fdca26"
                          ],
                          [
                            1,
                            "#f0f921"
                          ]
                        ],
                        "type": "histogram2d"
                      }
                    ],
                    "histogram2dcontour": [
                      {
                        "colorbar": {
                          "outlinewidth": 0,
                          "ticks": ""
                        },
                        "colorscale": [
                          [
                            0,
                            "#0d0887"
                          ],
                          [
                            0.1111111111111111,
                            "#46039f"
                          ],
                          [
                            0.2222222222222222,
                            "#7201a8"
                          ],
                          [
                            0.3333333333333333,
                            "#9c179e"
                          ],
                          [
                            0.4444444444444444,
                            "#bd3786"
                          ],
                          [
                            0.5555555555555556,
                            "#d8576b"
                          ],
                          [
                            0.6666666666666666,
                            "#ed7953"
                          ],
                          [
                            0.7777777777777778,
                            "#fb9f3a"
                          ],
                          [
                            0.8888888888888888,
                            "#fdca26"
                          ],
                          [
                            1,
                            "#f0f921"
                          ]
                        ],
                        "type": "histogram2dcontour"
                      }
                    ],
                    "mesh3d": [
                      {
                        "colorbar": {
                          "outlinewidth": 0,
                          "ticks": ""
                        },
                        "type": "mesh3d"
                      }
                    ],
                    "parcoords": [
                      {
                        "line": {
                          "colorbar": {
                            "outlinewidth": 0,
                            "ticks": ""
                          }
                        },
                        "type": "parcoords"
                      }
                    ],
                    "pie": [
                      {
                        "automargin": true,
                        "type": "pie"
                      }
                    ],
                    "scatter": [
                      {
                        "fillpattern": {
                          "fillmode": "overlay",
                          "size": 10,
                          "solidity": 0.2
                        },
                        "type": "scatter"
                      }
                    ],
                    "scatter3d": [
                      {
                        "line": {
                          "colorbar": {
                            "outlinewidth": 0,
                            "ticks": ""
                          }
                        },
                        "marker": {
                          "colorbar": {
                            "outlinewidth": 0,
                            "ticks": ""
                          }
                        },
                        "type": "scatter3d"
                      }
                    ],
                    "scattercarpet": [
                      {
                        "marker": {
                          "colorbar": {
                            "outlinewidth": 0,
                            "ticks": ""
                          }
                        },
                        "type": "scattercarpet"
                      }
                    ],
                    "scattergeo": [
                      {
                        "marker": {
                          "colorbar": {
                            "outlinewidth": 0,
                            "ticks": ""
                          }
                        },
                        "type": "scattergeo"
                      }
                    ],
                    "scattergl": [
                      {
                        "marker": {
                          "colorbar": {
                            "outlinewidth": 0,
                            "ticks": ""
                          }
                        },
                        "type": "scattergl"
                      }
                    ],
                    "scattermapbox": [
                      {
                        "marker": {
                          "colorbar": {
                            "outlinewidth": 0,
                            "ticks": ""
                          }
                        },
                        "type": "scattermapbox"
                      }
                    ],
                    "scatterpolar": [
                      {
                        "marker": {
                          "colorbar": {
                            "outlinewidth": 0,
                            "ticks": ""
                          }
                        },
                        "type": "scatterpolar"
                      }
                    ],
                    "scatterpolargl": [
                      {
                        "marker": {
                          "colorbar": {
                            "outlinewidth": 0,
                            "ticks": ""
                          }
                        },
                        "type": "scatterpolargl"
                      }
                    ],
                    "scatterternary": [
                      {
                        "marker": {
                          "colorbar": {
                            "outlinewidth": 0,
                            "ticks": ""
                          }
                        },
                        "type": "scatterternary"
                      }
                    ],
                    "surface": [
                      {
                        "colorbar": {
                          "outlinewidth": 0,
                          "ticks": ""
                        },
                        "colorscale": [
                          [
                            0,
                            "#0d0887"
                          ],
                          [
                            0.1111111111111111,
                            "#46039f"
                          ],
                          [
                            0.2222222222222222,
                            "#7201a8"
                          ],
                          [
                            0.3333333333333333,
                            "#9c179e"
                          ],
                          [
                            0.4444444444444444,
                            "#bd3786"
                          ],
                          [
                            0.5555555555555556,
                            "#d8576b"
                          ],
                          [
                            0.6666666666666666,
                            "#ed7953"
                          ],
                          [
                            0.7777777777777778,
                            "#fb9f3a"
                          ],
                          [
                            0.8888888888888888,
                            "#fdca26"
                          ],
                          [
                            1,
                            "#f0f921"
                          ]
                        ],
                        "type": "surface"
                      }
                    ],
                    "table": [
                      {
                        "cells": {
                          "fill": {
                            "color": "#EBF0F8"
                          },
                          "line": {
                            "color": "white"
                          }
                        },
                        "header": {
                          "fill": {
                            "color": "#C8D4E3"
                          },
                          "line": {
                            "color": "white"
                          }
                        },
                        "type": "table"
                      }
                    ]
                  },
                  "layout": {
                    "annotationdefaults": {
                      "arrowcolor": "#2a3f5f",
                      "arrowhead": 0,
                      "arrowwidth": 1
                    },
                    "autotypenumbers": "strict",
                    "coloraxis": {
                      "colorbar": {
                        "outlinewidth": 0,
                        "ticks": ""
                      }
                    },
                    "colorscale": {
                      "diverging": [
                        [
                          0,
                          "#8e0152"
                        ],
                        [
                          0.1,
                          "#c51b7d"
                        ],
                        [
                          0.2,
                          "#de77ae"
                        ],
                        [
                          0.3,
                          "#f1b6da"
                        ],
                        [
                          0.4,
                          "#fde0ef"
                        ],
                        [
                          0.5,
                          "#f7f7f7"
                        ],
                        [
                          0.6,
                          "#e6f5d0"
                        ],
                        [
                          0.7,
                          "#b8e186"
                        ],
                        [
                          0.8,
                          "#7fbc41"
                        ],
                        [
                          0.9,
                          "#4d9221"
                        ],
                        [
                          1,
                          "#276419"
                        ]
                      ],
                      "sequential": [
                        [
                          0,
                          "#0d0887"
                        ],
                        [
                          0.1111111111111111,
                          "#46039f"
                        ],
                        [
                          0.2222222222222222,
                          "#7201a8"
                        ],
                        [
                          0.3333333333333333,
                          "#9c179e"
                        ],
                        [
                          0.4444444444444444,
                          "#bd3786"
                        ],
                        [
                          0.5555555555555556,
                          "#d8576b"
                        ],
                        [
                          0.6666666666666666,
                          "#ed7953"
                        ],
                        [
                          0.7777777777777778,
                          "#fb9f3a"
                        ],
                        [
                          0.8888888888888888,
                          "#fdca26"
                        ],
                        [
                          1,
                          "#f0f921"
                        ]
                      ],
                      "sequentialminus": [
                        [
                          0,
                          "#0d0887"
                        ],
                        [
                          0.1111111111111111,
                          "#46039f"
                        ],
                        [
                          0.2222222222222222,
                          "#7201a8"
                        ],
                        [
                          0.3333333333333333,
                          "#9c179e"
                        ],
                        [
                          0.4444444444444444,
                          "#bd3786"
                        ],
                        [
                          0.5555555555555556,
                          "#d8576b"
                        ],
                        [
                          0.6666666666666666,
                          "#ed7953"
                        ],
                        [
                          0.7777777777777778,
                          "#fb9f3a"
                        ],
                        [
                          0.8888888888888888,
                          "#fdca26"
                        ],
                        [
                          1,
                          "#f0f921"
                        ]
                      ]
                    },
                    "colorway": [
                      "#636efa",
                      "#EF553B",
                      "#00cc96",
                      "#ab63fa",
                      "#FFA15A",
                      "#19d3f3",
                      "#FF6692",
                      "#B6E880",
                      "#FF97FF",
                      "#FECB52"
                    ],
                    "font": {
                      "color": "#2a3f5f"
                    },
                    "geo": {
                      "bgcolor": "white",
                      "lakecolor": "white",
                      "landcolor": "#E5ECF6",
                      "showlakes": true,
                      "showland": true,
                      "subunitcolor": "white"
                    },
                    "hoverlabel": {
                      "align": "left"
                    },
                    "hovermode": "closest",
                    "mapbox": {
                      "style": "light"
                    },
                    "paper_bgcolor": "white",
                    "plot_bgcolor": "#E5ECF6",
                    "polar": {
                      "angularaxis": {
                        "gridcolor": "white",
                        "linecolor": "white",
                        "ticks": ""
                      },
                      "bgcolor": "#E5ECF6",
                      "radialaxis": {
                        "gridcolor": "white",
                        "linecolor": "white",
                        "ticks": ""
                      }
                    },
                    "scene": {
                      "xaxis": {
                        "backgroundcolor": "#E5ECF6",
                        "gridcolor": "white",
                        "gridwidth": 2,
                        "linecolor": "white",
                        "showbackground": true,
                        "ticks": "",
                        "zerolinecolor": "white"
                      },
                      "yaxis": {
                        "backgroundcolor": "#E5ECF6",
                        "gridcolor": "white",
                        "gridwidth": 2,
                        "linecolor": "white",
                        "showbackground": true,
                        "ticks": "",
                        "zerolinecolor": "white"
                      },
                      "zaxis": {
                        "backgroundcolor": "#E5ECF6",
                        "gridcolor": "white",
                        "gridwidth": 2,
                        "linecolor": "white",
                        "showbackground": true,
                        "ticks": "",
                        "zerolinecolor": "white"
                      }
                    },
                    "shapedefaults": {
                      "line": {
                        "color": "#2a3f5f"
                      }
                    },
                    "ternary": {
                      "aaxis": {
                        "gridcolor": "white",
                        "linecolor": "white",
                        "ticks": ""
                      },
                      "baxis": {
                        "gridcolor": "white",
                        "linecolor": "white",
                        "ticks": ""
                      },
                      "bgcolor": "#E5ECF6",
                      "caxis": {
                        "gridcolor": "white",
                        "linecolor": "white",
                        "ticks": ""
                      }
                    },
                    "title": {
                      "x": 0.05
                    },
                    "xaxis": {
                      "automargin": true,
                      "gridcolor": "white",
                      "linecolor": "white",
                      "ticks": "",
                      "title": {
                        "standoff": 15
                      },
                      "zerolinecolor": "white",
                      "zerolinewidth": 2
                    },
                    "yaxis": {
                      "automargin": true,
                      "gridcolor": "white",
                      "linecolor": "white",
                      "ticks": "",
                      "title": {
                        "standoff": 15
                      },
                      "zerolinecolor": "white",
                      "zerolinewidth": 2
                    }
                  }
                },
                "title": {
                  "font": {
                    "color": "#666666",
                    "size": 16
                  },
                  "text": "Média de preços por localidade e valores Máximos, Mínimos e Média individuais",
                  "x": 0,
                  "xanchor": "left",
                  "xref": "paper",
                  "y": 0.91,
                  "yanchor": "top"
                },
                "width": 850,
                "xaxis": {
                  "dtick": "M1",
                  "showgrid": false,
                  "showspikes": true,
                  "spikecolor": "#999999",
                  "spikemode": "across",
                  "spikethickness": 2,
                  "tickangle": 25,
                  "tickfont": {
                    "color": "#666666",
                    "family": "Ubuntu"
                  },
                  "tickwidth": 1,
                  "title": {
                    "font": {
                      "color": "#666666",
                      "family": "Ubuntu",
                      "size": 14
                    },
                    "text": "Cidade"
                  }
                },
                "yaxis": {
                  "gridcolor": "gray",
                  "gridwidth": 1,
                  "tickfont": {
                    "color": "#666666",
                    "family": "Ubuntu",
                    "size": 12
                  },
                  "tickmode": "auto",
                  "title": {
                    "font": {
                      "color": "#666666",
                      "family": "Ubuntu",
                      "size": 14
                    },
                    "text": "Price (US$)"
                  }
                }
              }
            }
          },
          "metadata": {},
          "output_type": "display_data"
        }
      ],
      "source": [
        "# Criando um gráfico em Plotly para ver o preço médio por cidade\n",
        "df_city = df_clean.groupby('city',as_index=False).mean()\n",
        "\n",
        "layout = Layout(\n",
        "             paper_bgcolor='rgba(0,0,0,0)',\n",
        "             plot_bgcolor='rgba(0,0,0,0)'\n",
        "         )\n",
        "\n",
        "fig = go.Figure(layout = layout)\n",
        "fig.add_trace(go.Bar(x=df_city['city'], y=df_city['$/ft2_living'],\n",
        "                     name = 'Mean Price', meta=df_city['$/ft2_living']))\n",
        "\n",
        "fig.add_trace(go.Scatter(\n",
        "        x=[df_city['city'][0], df_city['city'][df_city.shape[0]-1]],\n",
        "        y=[df_clean['$/ft2_living'].max(),df_clean['$/ft2_living'].max()],\n",
        "        mode='lines',name='Max',\n",
        "        marker=dict(color='#44FF00', size=1,opacity=0.5)\n",
        "))\n",
        "fig.add_trace(go.Scatter(\n",
        "        x=[df_city['city'][0], df_city['city'][df_city.shape[0]-1]],\n",
        "        y=[df_clean['$/ft2_living'].min(),df_clean['$/ft2_living'].min()],\n",
        "        mode='lines',name='Min',\n",
        "        marker=dict(color='#FF0600', size=1,opacity=0.5)\n",
        "))\n",
        "fig.add_trace(go.Scatter(\n",
        "        x=[df_city['city'][0], df_city['city'][df_city.shape[0]-1]],\n",
        "        y=[df_clean['$/ft2_living'].mean(),df_clean['$/ft2_living'].mean()],\n",
        "        mode='lines',name='Mean',\n",
        "        marker=dict(color='#666666', size=1,opacity=0.5)\n",
        "))\n",
        "\n",
        "\n",
        "# Configurações Gerais - Titulos/ Hovermode/ Tamanhos/ Eixos\n",
        "fig.update_layout(\n",
        "                hovermode = None,\n",
        "                width=850,\n",
        "                title={\n",
        "                    'font': {\n",
        "                    'size': 16,\n",
        "                    'color': \"#666666\"},\n",
        "                    'text': 'Média de preços por localidade e valores Máximos, Mínimos e Média individuais',\n",
        "                        'y': 0.91,\n",
        "                        'x': 0.0,\n",
        "                        'xref':'paper', 'xanchor': 'left',\n",
        "                        'yanchor': 'top'},\n",
        "                yaxis=dict(           \n",
        "                        tickmode='auto',\n",
        "                        title=\"Price (US$)\",\n",
        "                        title_font={ 'size': 14, \"family\": 'Ubuntu', \"color\": \"#666666\"},\n",
        "                        tickfont={\"size\": 12, \"family\": 'Ubuntu', \"color\": \"#666666\"},\n",
        "                        gridwidth=1, gridcolor='gray'\n",
        "                    ),\n",
        "                xaxis=dict(\n",
        "                        showspikes=True,\n",
        "                        spikethickness=2,\n",
        "                        spikemode='across',\n",
        "                        spikecolor='#999999',\n",
        "                        showgrid=False,\n",
        "                        tickangle=25,\n",
        "                        dtick=\"M1\",\n",
        "                        tickwidth = 1,\n",
        "                        title_text=\"Cidade\",\n",
        "                        title_font={ 'size': 14, \"family\": 'Ubuntu', \"color\": \"#666666\"},\n",
        "                        tickfont={ \"family\": 'Ubuntu', \"color\": \"#666666\"}\n",
        "                    )\n",
        "                \n",
        "        )\n",
        "\n",
        "fig.update_layout()\n",
        "fig.show()"
      ]
    },
    {
      "attachments": {},
      "cell_type": "markdown",
      "metadata": {},
      "source": [
        "### 5.3 Variação dos preços"
      ]
    },
    {
      "cell_type": "code",
      "execution_count": 81,
      "metadata": {},
      "outputs": [
        {
          "name": "stderr",
          "output_type": "stream",
          "text": [
            "C:\\Users\\Public\\Documents\\Wondershare\\CreatorTemp\\ipykernel_11916\\642321078.py:2: FutureWarning:\n",
            "\n",
            "The default value of numeric_only in DataFrameGroupBy.mean is deprecated. In a future version, numeric_only will default to False. Either specify numeric_only or select only columns which should be valid for the function.\n",
            "\n"
          ]
        },
        {
          "data": {
            "image/png": "[encoded data removed]",
            "text/plain": [
              "<Figure size 640x480 with 1 Axes>"
            ]
          },
          "metadata": {},
          "output_type": "display_data"
        }
      ],
      "source": [
        "# Variação média de preços de acordo com o número de quartos\n",
        "sns.barplot(data = df_clean.groupby('bedrooms',as_index=False).mean(),y='price',x='bedrooms') \n",
        "plt.title('Média de preços de acordo com o número de quartos')\n",
        "plt.show()"
      ]
    },
    {
      "attachments": {},
      "cell_type": "markdown",
      "metadata": {},
      "source": [
        "### 5.4 Faixa de preço"
      ]
    },
    {
      "cell_type": "code",
      "execution_count": 82,
      "metadata": {},
      "outputs": [
        {
          "data": {
            "image/png": "[encoded data removed]",
            "text/plain": [
              "<Figure size 640x480 with 1 Axes>"
            ]
          },
          "metadata": {},
          "output_type": "display_data"
        }
      ],
      "source": [
        "# Avaliando qual a faixa de preço mais comum dentre as 3 localidades com mais imóveis\n",
        "df_city = df_clean[df_clean.city.isin(df_clean.city.value_counts()[:3].index)]\n",
        "sns.histplot(data=df_city,x='price', hue='city',kde=True)\n",
        "plt.xlim([0,df_city.price.median() + 2*df_city.price.std()])\n",
        "\n",
        "plt.show()"
      ]
    },
    {
      "cell_type": "code",
      "execution_count": 83,
      "metadata": {},
      "outputs": [
        {
          "data": {
            "text/html": [
              "<div>\n",
              "<style scoped>\n",
              "    .dataframe tbody tr th:only-of-type {\n",
              "        vertical-align: middle;\n",
              "    }\n",
              "\n",
              "    .dataframe tbody tr th {\n",
              "        vertical-align: top;\n",
              "    }\n",
              "\n",
              "    .dataframe thead th {\n",
              "        text-align: right;\n",
              "    }\n",
              "</style>\n",
              "<table border=\"1\" class=\"dataframe\">\n",
              "  <thead>\n",
              "    <tr style=\"text-align: right;\">\n",
              "      <th></th>\n",
              "      <th>city</th>\n",
              "      <th>price_min</th>\n",
              "      <th>price_mean</th>\n",
              "      <th>price_median</th>\n",
              "      <th>price_max</th>\n",
              "      <th>price_std</th>\n",
              "    </tr>\n",
              "  </thead>\n",
              "  <tbody>\n",
              "    <tr>\n",
              "      <th>0</th>\n",
              "      <td>Bellevue</td>\n",
              "      <td>247500.00</td>\n",
              "      <td>802529.97</td>\n",
              "      <td>720000.00</td>\n",
              "      <td>2450000.00</td>\n",
              "      <td>370533.43</td>\n",
              "    </tr>\n",
              "    <tr>\n",
              "      <th>1</th>\n",
              "      <td>Renton</td>\n",
              "      <td>95000.00</td>\n",
              "      <td>393914.22</td>\n",
              "      <td>355500.00</td>\n",
              "      <td>2230000.00</td>\n",
              "      <td>166322.26</td>\n",
              "    </tr>\n",
              "    <tr>\n",
              "      <th>2</th>\n",
              "      <td>Seattle</td>\n",
              "      <td>78000.00</td>\n",
              "      <td>521926.73</td>\n",
              "      <td>452000.00</td>\n",
              "      <td>2453500.00</td>\n",
              "      <td>285937.33</td>\n",
              "    </tr>\n",
              "  </tbody>\n",
              "</table>\n",
              "</div>"
            ],
            "text/plain": [
              "       city  price_min  price_mean  price_median  price_max  price_std\n",
              "0  Bellevue  247500.00   802529.97     720000.00 2450000.00  370533.43\n",
              "1    Renton   95000.00   393914.22     355500.00 2230000.00  166322.26\n",
              "2   Seattle   78000.00   521926.73     452000.00 2453500.00  285937.33"
            ]
          },
          "execution_count": 83,
          "metadata": {},
          "output_type": "execute_result"
        }
      ],
      "source": [
        "df_city_group = df_city.groupby('city',as_index=False).agg({'price':['min','mean','median','max','std']})\n",
        "\n",
        "df_city_group.columns = ['_'.join(col).strip() if col[1] != \"\" else col[0] for col in df_city_group.columns.values]\n",
        "df_city_group"
      ]
    },
    {
      "attachments": {},
      "cell_type": "markdown",
      "metadata": {},
      "source": [
        "### 5.5 Cidades com mas móveis"
      ]
    },
    {
      "cell_type": "code",
      "execution_count": 84,
      "metadata": {},
      "outputs": [
        {
          "data": {
            "text/plain": [
              "Seattle     8771\n",
              "Renton      1550\n",
              "Bellevue    1289\n",
              "Kent        1182\n",
              "Kirkland     953\n",
              "Name: city, dtype: int64"
            ]
          },
          "execution_count": 84,
          "metadata": {},
          "output_type": "execute_result"
        }
      ],
      "source": [
        "# 5 Cidades com mais imóveis a venda\n",
        "df_clean.city.value_counts()[:5]"
      ]
    },
    {
      "attachments": {},
      "cell_type": "markdown",
      "metadata": {},
      "source": [
        "## **6.0 Cálculos finais e conclusões**"
      ]
    },
    {
      "attachments": {},
      "cell_type": "markdown",
      "metadata": {},
      "source": [
        "### 6.1 Imóveis com mais lucros"
      ]
    },
    {
      "cell_type": "code",
      "execution_count": 85,
      "metadata": {},
      "outputs": [
        {
          "data": {
            "text/html": [
              "<div>\n",
              "<style scoped>\n",
              "    .dataframe tbody tr th:only-of-type {\n",
              "        vertical-align: middle;\n",
              "    }\n",
              "\n",
              "    .dataframe tbody tr th {\n",
              "        vertical-align: top;\n",
              "    }\n",
              "\n",
              "    .dataframe thead th {\n",
              "        text-align: right;\n",
              "    }\n",
              "</style>\n",
              "<table border=\"1\" class=\"dataframe\">\n",
              "  <thead>\n",
              "    <tr style=\"text-align: right;\">\n",
              "      <th></th>\n",
              "      <th>id</th>\n",
              "      <th>zipcode</th>\n",
              "      <th>city</th>\n",
              "      <th>price_min</th>\n",
              "      <th>price_mean</th>\n",
              "      <th>price_max</th>\n",
              "      <th>$/ft2_living_mean</th>\n",
              "      <th>profit_max</th>\n",
              "      <th>profit_min</th>\n",
              "    </tr>\n",
              "  </thead>\n",
              "  <tbody>\n",
              "    <tr>\n",
              "      <th>0</th>\n",
              "      <td>1000102</td>\n",
              "      <td>98002</td>\n",
              "      <td>Auburn</td>\n",
              "      <td>300000.00</td>\n",
              "      <td>300000.00</td>\n",
              "      <td>300000.00</td>\n",
              "      <td>125.00</td>\n",
              "      <td>0</td>\n",
              "      <td>0</td>\n",
              "    </tr>\n",
              "    <tr>\n",
              "      <th>13872</th>\n",
              "      <td>6381500720</td>\n",
              "      <td>98125</td>\n",
              "      <td>Seattle</td>\n",
              "      <td>395000.00</td>\n",
              "      <td>395000.00</td>\n",
              "      <td>395000.00</td>\n",
              "      <td>176.34</td>\n",
              "      <td>0</td>\n",
              "      <td>0</td>\n",
              "    </tr>\n",
              "    <tr>\n",
              "      <th>13890</th>\n",
              "      <td>6384500581</td>\n",
              "      <td>98116</td>\n",
              "      <td>Seattle</td>\n",
              "      <td>555000.00</td>\n",
              "      <td>555000.00</td>\n",
              "      <td>555000.00</td>\n",
              "      <td>272.06</td>\n",
              "      <td>0</td>\n",
              "      <td>0</td>\n",
              "    </tr>\n",
              "    <tr>\n",
              "      <th>13889</th>\n",
              "      <td>6384500535</td>\n",
              "      <td>98116</td>\n",
              "      <td>Seattle</td>\n",
              "      <td>499000.00</td>\n",
              "      <td>499000.00</td>\n",
              "      <td>499000.00</td>\n",
              "      <td>392.91</td>\n",
              "      <td>0</td>\n",
              "      <td>0</td>\n",
              "    </tr>\n",
              "    <tr>\n",
              "      <th>13888</th>\n",
              "      <td>6384500035</td>\n",
              "      <td>98116</td>\n",
              "      <td>Seattle</td>\n",
              "      <td>370000.00</td>\n",
              "      <td>370000.00</td>\n",
              "      <td>370000.00</td>\n",
              "      <td>430.23</td>\n",
              "      <td>0</td>\n",
              "      <td>0</td>\n",
              "    </tr>\n",
              "  </tbody>\n",
              "</table>\n",
              "</div>"
            ],
            "text/plain": [
              "               id  zipcode     city  price_min  price_mean  price_max  \\\n",
              "0         1000102    98002   Auburn  300000.00   300000.00  300000.00   \n",
              "13872  6381500720    98125  Seattle  395000.00   395000.00  395000.00   \n",
              "13890  6384500581    98116  Seattle  555000.00   555000.00  555000.00   \n",
              "13889  6384500535    98116  Seattle  499000.00   499000.00  499000.00   \n",
              "13888  6384500035    98116  Seattle  370000.00   370000.00  370000.00   \n",
              "\n",
              "       $/ft2_living_mean  profit_max  profit_min  \n",
              "0                 125.00           0           0  \n",
              "13872             176.34           0           0  \n",
              "13890             272.06           0           0  \n",
              "13889             392.91           0           0  \n",
              "13888             430.23           0           0  "
            ]
          },
          "execution_count": 85,
          "metadata": {},
          "output_type": "execute_result"
        }
      ],
      "source": [
        "# Escolher os 5 que tiveram mais lucro nas cidades de Seattle, Renton e Bellevue\n",
        "df_sorted_agg = df_clean.groupby(['id','zipcode','city'],as_index=False).agg({'price':['min','mean','max'],\n",
        "                                                        '$/ft2_living':'mean','profit': ['max','min']})\n",
        "\n",
        "df_sorted_agg.columns = ['_'.join(col).strip() if col[1] != \"\" else col[0] for col in df_sorted_agg.columns.values]\n",
        "\n",
        "df_sorted_agg.sort_values('profit_max',ascending=False, inplace = True)\n",
        "df_sorted_agg.head()"
      ]
    },
    {
      "cell_type": "code",
      "execution_count": 86,
      "metadata": {},
      "outputs": [
        {
          "data": {
            "text/html": [
              "<div>\n",
              "<style scoped>\n",
              "    .dataframe tbody tr th:only-of-type {\n",
              "        vertical-align: middle;\n",
              "    }\n",
              "\n",
              "    .dataframe tbody tr th {\n",
              "        vertical-align: top;\n",
              "    }\n",
              "\n",
              "    .dataframe thead th {\n",
              "        text-align: right;\n",
              "    }\n",
              "</style>\n",
              "<table border=\"1\" class=\"dataframe\">\n",
              "  <thead>\n",
              "    <tr style=\"text-align: right;\">\n",
              "      <th></th>\n",
              "      <th>id</th>\n",
              "      <th>zipcode</th>\n",
              "      <th>city</th>\n",
              "      <th>price_min</th>\n",
              "      <th>price_mean</th>\n",
              "      <th>price_max</th>\n",
              "      <th>$/ft2_living_mean</th>\n",
              "      <th>profit_max</th>\n",
              "      <th>profit_min</th>\n",
              "    </tr>\n",
              "  </thead>\n",
              "  <tbody>\n",
              "    <tr>\n",
              "      <th>13872</th>\n",
              "      <td>6381500720</td>\n",
              "      <td>98125</td>\n",
              "      <td>Seattle</td>\n",
              "      <td>395000.00</td>\n",
              "      <td>395000.00</td>\n",
              "      <td>395000.00</td>\n",
              "      <td>176.34</td>\n",
              "      <td>0</td>\n",
              "      <td>0</td>\n",
              "    </tr>\n",
              "    <tr>\n",
              "      <th>13890</th>\n",
              "      <td>6384500581</td>\n",
              "      <td>98116</td>\n",
              "      <td>Seattle</td>\n",
              "      <td>555000.00</td>\n",
              "      <td>555000.00</td>\n",
              "      <td>555000.00</td>\n",
              "      <td>272.06</td>\n",
              "      <td>0</td>\n",
              "      <td>0</td>\n",
              "    </tr>\n",
              "    <tr>\n",
              "      <th>13889</th>\n",
              "      <td>6384500535</td>\n",
              "      <td>98116</td>\n",
              "      <td>Seattle</td>\n",
              "      <td>499000.00</td>\n",
              "      <td>499000.00</td>\n",
              "      <td>499000.00</td>\n",
              "      <td>392.91</td>\n",
              "      <td>0</td>\n",
              "      <td>0</td>\n",
              "    </tr>\n",
              "    <tr>\n",
              "      <th>13888</th>\n",
              "      <td>6384500035</td>\n",
              "      <td>98116</td>\n",
              "      <td>Seattle</td>\n",
              "      <td>370000.00</td>\n",
              "      <td>370000.00</td>\n",
              "      <td>370000.00</td>\n",
              "      <td>430.23</td>\n",
              "      <td>0</td>\n",
              "      <td>0</td>\n",
              "    </tr>\n",
              "    <tr>\n",
              "      <th>13887</th>\n",
              "      <td>6384300020</td>\n",
              "      <td>98177</td>\n",
              "      <td>Seattle</td>\n",
              "      <td>494000.00</td>\n",
              "      <td>494000.00</td>\n",
              "      <td>494000.00</td>\n",
              "      <td>269.95</td>\n",
              "      <td>0</td>\n",
              "      <td>0</td>\n",
              "    </tr>\n",
              "  </tbody>\n",
              "</table>\n",
              "</div>"
            ],
            "text/plain": [
              "               id  zipcode     city  price_min  price_mean  price_max  \\\n",
              "13872  6381500720    98125  Seattle  395000.00   395000.00  395000.00   \n",
              "13890  6384500581    98116  Seattle  555000.00   555000.00  555000.00   \n",
              "13889  6384500535    98116  Seattle  499000.00   499000.00  499000.00   \n",
              "13888  6384500035    98116  Seattle  370000.00   370000.00  370000.00   \n",
              "13887  6384300020    98177  Seattle  494000.00   494000.00  494000.00   \n",
              "\n",
              "       $/ft2_living_mean  profit_max  profit_min  \n",
              "13872             176.34           0           0  \n",
              "13890             272.06           0           0  \n",
              "13889             392.91           0           0  \n",
              "13888             430.23           0           0  \n",
              "13887             269.95           0           0  "
            ]
          },
          "execution_count": 86,
          "metadata": {},
          "output_type": "execute_result"
        }
      ],
      "source": [
        "choice = df_sorted_agg[df_sorted_agg.city.isin(['Seattle', 'Renton' ,'Bellevue'])].head()\n",
        "choice"
      ]
    },
    {
      "attachments": {},
      "cell_type": "markdown",
      "metadata": {},
      "source": [
        "### 6.2 Imóveis com mais prejuízos"
      ]
    },
    {
      "cell_type": "code",
      "execution_count": 87,
      "metadata": {},
      "outputs": [
        {
          "data": {
            "text/html": [
              "<div>\n",
              "<style scoped>\n",
              "    .dataframe tbody tr th:only-of-type {\n",
              "        vertical-align: middle;\n",
              "    }\n",
              "\n",
              "    .dataframe tbody tr th {\n",
              "        vertical-align: top;\n",
              "    }\n",
              "\n",
              "    .dataframe thead th {\n",
              "        text-align: right;\n",
              "    }\n",
              "</style>\n",
              "<table border=\"1\" class=\"dataframe\">\n",
              "  <thead>\n",
              "    <tr style=\"text-align: right;\">\n",
              "      <th></th>\n",
              "      <th>id</th>\n",
              "      <th>zipcode</th>\n",
              "      <th>city</th>\n",
              "      <th>price_min</th>\n",
              "      <th>price_mean</th>\n",
              "      <th>price_max</th>\n",
              "      <th>$/ft2_living_mean</th>\n",
              "      <th>profit_max</th>\n",
              "      <th>profit_min</th>\n",
              "    </tr>\n",
              "  </thead>\n",
              "  <tbody>\n",
              "    <tr>\n",
              "      <th>0</th>\n",
              "      <td>1000102</td>\n",
              "      <td>98002</td>\n",
              "      <td>Auburn</td>\n",
              "      <td>300000.00</td>\n",
              "      <td>300000.00</td>\n",
              "      <td>300000.00</td>\n",
              "      <td>125.00</td>\n",
              "      <td>0</td>\n",
              "      <td>0</td>\n",
              "    </tr>\n",
              "    <tr>\n",
              "      <th>4</th>\n",
              "      <td>3600057</td>\n",
              "      <td>98144</td>\n",
              "      <td>Seattle</td>\n",
              "      <td>402500.00</td>\n",
              "      <td>402500.00</td>\n",
              "      <td>402500.00</td>\n",
              "      <td>243.94</td>\n",
              "      <td>0</td>\n",
              "      <td>0</td>\n",
              "    </tr>\n",
              "    <tr>\n",
              "      <th>5</th>\n",
              "      <td>3600072</td>\n",
              "      <td>98144</td>\n",
              "      <td>Seattle</td>\n",
              "      <td>680000.00</td>\n",
              "      <td>680000.00</td>\n",
              "      <td>680000.00</td>\n",
              "      <td>306.31</td>\n",
              "      <td>0</td>\n",
              "      <td>0</td>\n",
              "    </tr>\n",
              "    <tr>\n",
              "      <th>6</th>\n",
              "      <td>3800008</td>\n",
              "      <td>98178</td>\n",
              "      <td>Seattle</td>\n",
              "      <td>178000.00</td>\n",
              "      <td>178000.00</td>\n",
              "      <td>178000.00</td>\n",
              "      <td>89.45</td>\n",
              "      <td>0</td>\n",
              "      <td>0</td>\n",
              "    </tr>\n",
              "    <tr>\n",
              "      <th>7</th>\n",
              "      <td>5200087</td>\n",
              "      <td>98108</td>\n",
              "      <td>Seattle</td>\n",
              "      <td>487000.00</td>\n",
              "      <td>487000.00</td>\n",
              "      <td>487000.00</td>\n",
              "      <td>191.73</td>\n",
              "      <td>0</td>\n",
              "      <td>0</td>\n",
              "    </tr>\n",
              "  </tbody>\n",
              "</table>\n",
              "</div>"
            ],
            "text/plain": [
              "        id  zipcode     city  price_min  price_mean  price_max  \\\n",
              "0  1000102    98002   Auburn  300000.00   300000.00  300000.00   \n",
              "4  3600057    98144  Seattle  402500.00   402500.00  402500.00   \n",
              "5  3600072    98144  Seattle  680000.00   680000.00  680000.00   \n",
              "6  3800008    98178  Seattle  178000.00   178000.00  178000.00   \n",
              "7  5200087    98108  Seattle  487000.00   487000.00  487000.00   \n",
              "\n",
              "   $/ft2_living_mean  profit_max  profit_min  \n",
              "0             125.00           0           0  \n",
              "4             243.94           0           0  \n",
              "5             306.31           0           0  \n",
              "6              89.45           0           0  \n",
              "7             191.73           0           0  "
            ]
          },
          "execution_count": 87,
          "metadata": {},
          "output_type": "execute_result"
        }
      ],
      "source": [
        "# 5 Piores escolhas - Pois tiveram prejuízo na venda\n",
        "df_sorted_agg.sort_values('profit_min',ascending=True, inplace = True)\n",
        "df_sorted_agg.head()"
      ]
    },
    {
      "attachments": {},
      "cell_type": "markdown",
      "metadata": {},
      "source": [
        "### 6.3 Exportando o novo dataset (Final)"
      ]
    },
    {
      "cell_type": "code",
      "execution_count": 88,
      "metadata": {},
      "outputs": [],
      "source": [
        "df_sorted_agg.to_csv('Dataset/kc_house_data_final.csv')"
      ]
    },
    {
      "attachments": {},
      "cell_type": "markdown",
      "metadata": {},
      "source": [
        "# Respondendo aos questionamentos\n",
        "\n",
        "* A Questão de Negócio:\n",
        "  - Qual a minha meta?\n",
        "    > Possível resposta: Garantir um investimento de imóvel em King County que me retorne um lucro futuramente\n",
        "  - Como posso chegar?\n",
        "    > Possível resposta: Escolhendo 5 imóveis que tem maior chance de venda e com melhores lucros históricos \n",
        "* O Entendimento do Negócio:\n",
        "  - Quais dados eu tenho disponível?\n",
        "    > Possível resposta: São diversos atributos de imóveis que foram vendidos no Condado de King  de Maio de 2014 até 2015. Expressam dados gerais do imóvei como tamanho, quartos e preço de venda, porém tem dados de qualidade como beleza da vista e qualidade do material utilizado na construção. Também existe as variáveis de localização do imóvel. \n",
        "  - Eles são relevantes para o problema?\n",
        "    > Possível resposta: Quase todos os atributos neste caso são relevantes, principalmente aqueles que podemos associar com preço de venda, como o número de quartos, área habitável e se é na beira da praia ou não. \n",
        "  - Eles me trazem uma solução direta?\n",
        "    > Possível resposta: Eles me trazem diversas opções e noções, porém ainda não é possível escolher um imóvel que possamos afirmar que a chance dele dar um valor X de lucro seja alta. \n",
        "  - Qual o meu setor ou range de negócio?\n",
        "    > Possível resposta: No geral, o meu setor de negócio são imóveis dentro do condado de King no Estado de Washington nos USA de 2014 a 2015. Para tomada de decisão, ainda filtrei a minha escolha às 3 cidades que possuem mais registros de venda nesse período, sendo elas: 'Seattle', 'Renton' ,'Bellevue'.\n",
        "* A Coleta de Dados:\n",
        "  - Os dados que eu tenho fazem sentido?\n",
        "    > Possível resposta: Sim. Não existe nenhum valor ausente. Entretanto, existem atributos com interpretações subjetivas como por exemplo o `floor`, indicando quantos andares tem uma casa com valores decimais, como se fosse um sótão talvez.\n",
        "  - Estão no formato que eu gostaria?\n",
        "    > Possível resposta: Alguns dados precisaram ser formatados como no caso da Data.\n",
        "  - O que mais eu consigo obter de informação destes dados?\n",
        "    > Possível resposta: Alguns dos insights aplicados no problema foi o preço por área, cidade em que se localiza o imóvel e o lucro ou perda financeira baseado nas venda do imóvel durante o período. \n",
        "* A Limpeza de Dados:\n",
        "- Data\n",
        "    > Possível resposta: A data veio num formato diferente do usual, portanto foi feito uma tratativa para limpar os dados.\n",
        "  - Remoção de dados outliers e valores ausentes\n",
        "    > Possível resposta:  O dataset não apresentava valores ausentes. Já a situação de outliers, foi utilizado o percentil de 99,5% de algumas colunas para filtrar os dados finais.\n",
        "* A Exploração de Dados:\n",
        "  - Visualização dos dados\n",
        "    > Possível resposta: É possível montar diversas visualizações de dados e análises, porém limitou-se a ver média de preço por área em cada cidade, a distribuição de preço das 3 cidades com mais imóveis.\n",
        "  - Quais as minhas métricas essenciais\n",
        "    > Possível resposta: Para a escolha dos melhores imóveis, foi considerado o lucro de venda do imóvel dentro de 1 anos e a cidade onde ele se encontra.\n",
        "  - Baseado nos dados, qual imóvel ou tipo de imóveis eu deveria comprar.\n",
        "    > Possível resposta: Utilizando essas métricas da etapa anterior, o ideal é escolher imóveis que apresentaram uma revenda ao longo do período.\n",
        "\n"
      ]
    }
  ],
  "metadata": {
    "colab": {
      "collapsed_sections": [
        "8ayfY8NQoTjm",
        "aKigncZQt_33"
      ],
      "provenance": []
    },
    "kernelspec": {
      "display_name": "Python 3",
      "language": "python",
      "name": "python3"
    },
    "language_info": {
      "codemirror_mode": {
        "name": "ipython",
        "version": 3
      },
      "file_extension": ".py",
      "mimetype": "text/x-python",
      "name": "python",
      "nbconvert_exporter": "python",
      "pygments_lexer": "ipython3",
      "version": "3.11.0"
    },
    "vscode": {
      "interpreter": {
        "hash": "460ee6b775696f61ce32765c718e08d6160b3b8c1c7be129c741e8824c108cef"
      }
    }
  },
  "nbformat": 4,
  "nbformat_minor": 0
}
